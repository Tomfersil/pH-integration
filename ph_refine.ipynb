{
 "cells": [
  {
   "cell_type": "markdown",
   "id": "36c0b8ab",
   "metadata": {},
   "source": [
    "## Ensemble refinement for pH-dependent data\n",
    "\n",
    "Tools for the refinement of systems with observables measured at different pH values.\n",
    "\n",
    "Ensemble refinement only.\n",
    "\n",
    "This will be implemented as a module `ph_refine` of the Python package `MDRefine`"
   ]
  },
  {
   "cell_type": "markdown",
   "id": "b3da6b6f",
   "metadata": {},
   "source": [
    "### Theory & comments"
   ]
  },
  {
   "cell_type": "markdown",
   "id": "a7166877",
   "metadata": {},
   "source": [
    "1. The **loss function** is\n",
    "\\begin{equation}\n",
    "\\mathcal L (\\{ P_j\\}, \\vec\\pi) =\n",
    "\\frac{1}{2}\\sum_{k=1}^{N_{obs}}\\sum_{\\substack{i=1\\\\i\\in \\sigma(k)}}^{N_{ph}} \\Bigl( \\frac{\\sum_j w_{ij} \\langle g_k \\rangle_{P_j} - g_{ik,exp}}{\\sigma_{ik,exp}}\\Bigr)^2 + \\sum_j \\alpha_j D_{KL}[P_j||P_{0j}] + \\alpha D_{KL}[\\vec\\pi | \\vec \\pi_0]\n",
    "\\tag{1}\n",
    "\\end{equation}\n",
    "\n",
    "with normalization of $P_j(x)$, $\\vec\\pi$ and $w_{ij}$ (the relation between $w_{ij}$ and $\\pi_j$ is given by the grand-canonical ensemble; also $\\alpha_j$ might depend on $\\vec\\pi$, for example as $\\alpha_j = \\alpha \\pi_j$, but perhaps it has more physical meaning to keep all them $\\alpha_j = \\alpha$).\n",
    "\n",
    "Minimizing this loss function over the ensembles $P_j$ is equivalent to maximize the following loss function (same spirit of $\\tilde\\Gamma$) over the $\\vec\\lambda$ coefficients (one for each $g_{exp}$ value, independently on the number of protonation states $\\#\\{P_j\\}$):\n",
    "\n",
    "\\begin{equation}\n",
    "\\begin{split}\n",
    "\\tilde{\\mathcal L} (\\vec\\lambda, \\vec\\pi) & \n",
    "= -\\sum_k \\sum_{i, i\\in \\sigma(k)} \\Bigl( \\frac{1}{2} \\sigma_{ki,exp}^2 \\lambda_{ki}^2 + \\lambda_{ki} g_{ki,exp} \\Bigr) - \\sum_j \\log Z_j(\\vec\\lambda, \\vec\\pi) + \\alpha D_{KL}[\\vec\\pi || \\vec\\pi_0] \\\\\n",
    "& = - \\Gamma(\\vec\\lambda;\\vec\\pi) + \\alpha D_{KL}[\\vec\\pi || \\vec\\pi_0]\n",
    "\\tag{2}\n",
    "\\end{split}\n",
    "\\end{equation}\n",
    "\n",
    "where the ensemble $P_j$ is parametrized by $\\lambda$ as\n",
    "\n",
    "\\begin{equation}\n",
    "P_j(x;\\vec\\lambda) = \\frac{1}{Z_j(\\vec\\lambda)} P_{0j}(x) \\, \\mathrm{exp}\\Bigl\\{-\\frac{1}{\\alpha_j} \\sum_k \\sum_{i,i\\in\\sigma(k)} \\lambda_{ki} w_{ij} g_k(x) \\Bigr\\}.\n",
    "\\tag{3}\n",
    "\\end{equation}\n",
    "\n",
    "Notice the $\\vec\\lambda$ coefficients are present according with the experimental values, not with the structural (protonation) ensembles $P_j$.\n",
    "\n",
    "This simplifies to our usual case, in which we have experimental values corresponding to same pH value (but different molecular systems)."
   ]
  },
  {
   "cell_type": "markdown",
   "id": "f1c82b79",
   "metadata": {},
   "source": [
    "- even if I do not have all the experimental values for each element in the matrix (obs x pH), I have all the values from MD simulations, even for missing experimental values, so for each protonation state I have (M x N) array with M the n. of observables and N the total n. of frames for that protonation state from all the simulations at constant pH"
   ]
  },
  {
   "cell_type": "markdown",
   "id": "a397a65e",
   "metadata": {},
   "source": [
    "**Multiple samplings of the same canonical ensembles**\n",
    "\n",
    "- since you have multiple sampling distributions of the same canonical ensembles (protonated / deprotonated for multiple pH values), you can weight each of them differently (for example, weight more those with more frames -- corresponding to same weight for each frame, or weight equally independently on the n. of frames, pay attention to the correlation times, which actually depend on the selected observable, and so on), in the limit of high statistics the averages from each of them will converge to the same value\n",
    "- you could take separately each estimate of the same canonical ensemble from different pH, and then also compare their average values of the observables to test their statistical robustness (this will require an extra index in `gs` and `weights`)\n",
    "- this is clearly an advantage, so you can write this in the motivation for this work!"
   ]
  },
  {
   "cell_type": "markdown",
   "id": "a361ceba",
   "metadata": {},
   "source": [
    "### Main functions 1: `Manage_indices` and `ph_gamma`"
   ]
  },
  {
   "cell_type": "code",
   "execution_count": 1,
   "id": "f3ed03b2",
   "metadata": {},
   "outputs": [],
   "source": [
    "import jax.numpy as np\n",
    "import numpy as numpy"
   ]
  },
  {
   "cell_type": "code",
   "execution_count": 2,
   "id": "1026cf7e",
   "metadata": {},
   "outputs": [],
   "source": [
    "from ph_refine import Manage_indices"
   ]
  },
  {
   "cell_type": "raw",
   "id": "0b968976",
   "metadata": {
    "vscode": {
     "languageId": "raw"
    }
   },
   "source": [
    "!pip install MDRefine"
   ]
  },
  {
   "cell_type": "code",
   "execution_count": 3,
   "id": "2e95b75d",
   "metadata": {},
   "outputs": [],
   "source": [
    "import MDRefine\n",
    "from MDRefine import compute_new_weights"
   ]
  },
  {
   "cell_type": "code",
   "execution_count": 4,
   "id": "87117390",
   "metadata": {},
   "outputs": [],
   "source": [
    "from ph_refine import ph_gamma"
   ]
  },
  {
   "cell_type": "markdown",
   "id": "bdbd4298",
   "metadata": {},
   "source": [
    "### Examples for `Manage_indices` and `ph_gamma`"
   ]
  },
  {
   "cell_type": "code",
   "execution_count": 14,
   "id": "8451f61d",
   "metadata": {},
   "outputs": [
    {
     "name": "stdout",
     "output_type": "stream",
     "text": [
      "[[0.1 0.2 0.1 nan nan]\n",
      " [nan 0.4 0.5 nan 0.7]\n",
      " [nan nan nan 0.2 nan]\n",
      " [0.3 0.5 0.8 nan 0.1]\n",
      " [nan nan 0.3 0.3 nan]]\n",
      "[[ 0  1  2 -1 -1]\n",
      " [-1  3  4 -1  5]\n",
      " [-1 -1 -1  6 -1]\n",
      " [ 7  8  9 -1 10]\n",
      " [-1 -1 11 12 -1]] [ 0  3  6  7 11 13]\n",
      "[0.1 0.2 0.1 0.4 0.5 0.7 0.2 0.3 0.5 0.8 0.1 0.3 0.3]\n"
     ]
    },
    {
     "data": {
      "text/plain": [
       "Array([[0.1, 0.2, 0.1, nan, nan],\n",
       "       [nan, 0.4, 0.5, nan, 0.7],\n",
       "       [nan, nan, nan, 0.2, nan],\n",
       "       [0.3, 0.5, 0.8, nan, 0.1],\n",
       "       [nan, nan, 0.3, 0.3, nan]], dtype=float64, weak_type=True)"
      ]
     },
     "execution_count": 14,
     "metadata": {},
     "output_type": "execute_result"
    }
   ],
   "source": [
    "my_exp_values = np.array([[0.1, 0.2, 0.1, np.nan, np.nan], [np.nan, 0.4, 0.5, np.nan, 0.7],\n",
    "                 [np.nan, np.nan, np.nan, 0.2, np.nan], [0.3, 0.5, 0.8, np.nan, 0.1],\n",
    "                 [np.nan, np.nan, 0.3, 0.3, np.nan]])\n",
    "\n",
    "print(my_exp_values)\n",
    "\n",
    "# so the first index in my_exp_values corresponds to the observable index, and the second to the ph index\n",
    "legend_matrix, legend_row = Manage_indices.build_legend(my_exp_values)\n",
    "\n",
    "print(legend_matrix, legend_row)\n",
    "\n",
    "flat_mat = Manage_indices.flatten(my_exp_values)\n",
    "\n",
    "print(flat_mat)\n",
    "\n",
    "mat = Manage_indices.flat_to_matrix(flat_mat, legend_matrix)\n",
    "\n",
    "mat"
   ]
  },
  {
   "cell_type": "code",
   "execution_count": 4,
   "id": "01c3dc77",
   "metadata": {},
   "outputs": [
    {
     "data": {
      "text/plain": [
       "Array([[0.1, 0.2, 0.1, nan, nan],\n",
       "       [nan, 0.4, 0.5, nan, 0.7],\n",
       "       [nan, nan, nan, 0.2, nan],\n",
       "       [0.3, 0.5, 0.8, nan, 0.1],\n",
       "       [nan, nan, 0.3, 0.3, nan]], dtype=float32)"
      ]
     },
     "execution_count": 4,
     "metadata": {},
     "output_type": "execute_result"
    }
   ],
   "source": [
    "Manage_indices.flat_to_matrix_old(flat_mat, legend_matrix)"
   ]
  },
  {
   "cell_type": "code",
   "execution_count": 5,
   "id": "3fbfc6ef",
   "metadata": {},
   "outputs": [
    {
     "data": {
      "text/plain": [
       "Array([0.3, 0.5, 0.8, 0.1], dtype=float32)"
      ]
     },
     "execution_count": 5,
     "metadata": {},
     "output_type": "execute_result"
    }
   ],
   "source": [
    "i = 3\n",
    "\n",
    "flat_mat[legend_row[i] : legend_row[i + 1]]\n",
    "# this is the array of values corresponding to the i-th observable at different pH values\n",
    "# so that the correction is computed as \n",
    "# correction_lambdas = 1/alphas[j]*np.einsum('ki,ij,kt->jt', lambdas[legend_row[i] : legend_row[i + 1]], ph_weights[j], g)"
   ]
  },
  {
   "cell_type": "code",
   "execution_count": 8,
   "id": "8bdfba31",
   "metadata": {},
   "outputs": [
    {
     "name": "stdout",
     "output_type": "stream",
     "text": [
      "[0.1 0.2 0.1 0.4 0.5 0.7 0.2 0.3 0.5 0.8 0.1 0.3 0.3] [ 0  3  6  7 11 13]\n"
     ]
    },
    {
     "data": {
      "text/plain": [
       "(13, 2)"
      ]
     },
     "execution_count": 8,
     "metadata": {},
     "output_type": "execute_result"
    }
   ],
   "source": [
    "print(flat_mat, legend_row)\n",
    "\n",
    "n_exp_vals = len(flat_mat)\n",
    "\n",
    "# The **first index** corresponds to the observable index, the **second index** corresponds to the pH index\n",
    "n_obs, n_ph = my_exp_values.shape\n",
    "n_prot = 2\n",
    "\n",
    "lambdas = np.ones(n_exp_vals)\n",
    "\n",
    "sigma_exp = 0.1*np.ones(n_exp_vals)\n",
    "\n",
    "g_exp = np.stack((flat_mat, sigma_exp)).T\n",
    "\n",
    "# ph_weights[i, j] tells how much protonation state j contributes at pH i\n",
    "# so it is normalized over the protonation states (sum over j must be 1 for every i)\n",
    "ph_weights = []\n",
    "for i in range(n_ph):\n",
    "    ph_w = np.ones(n_prot)\n",
    "    ph_w /= np.sum(ph_w)\n",
    "    ph_weights.append(ph_w)\n",
    "ph_weights = np.array(ph_weights)\n",
    "\n",
    "alphas = np.ones(n_ph)\n",
    "\n",
    "weights_ref = []\n",
    "gs = []\n",
    "\n",
    "n_frames = [100, 150, 75, 129, 4]\n",
    "\n",
    "assert len(n_frames) == n_ph, 'error on n_frames'\n",
    "\n",
    "for i in range(n_ph):\n",
    "    weights_ref.append(numpy.random.rand(n_frames[i]))\n",
    "    gs.append(numpy.random.rand(n_frames[i], n_obs))\n",
    "\n",
    "\n",
    "g_exp.shape"
   ]
  },
  {
   "cell_type": "code",
   "execution_count": 9,
   "id": "a2c35e8c",
   "metadata": {},
   "outputs": [
    {
     "data": {
      "text/plain": [
       "Array(-10.24052342, dtype=float64)"
      ]
     },
     "execution_count": 9,
     "metadata": {},
     "output_type": "execute_result"
    }
   ],
   "source": [
    "ph_gamma(lambdas, legend_matrix, gs, g_exp, weights_ref, alphas, ph_weights)"
   ]
  },
  {
   "cell_type": "markdown",
   "id": "a6550bd3",
   "metadata": {},
   "source": [
    "### Gradient of Gamma and minimization"
   ]
  },
  {
   "cell_type": "code",
   "execution_count": null,
   "id": "8212b7ad",
   "metadata": {},
   "outputs": [],
   "source": [
    "import jax\n",
    "from scipy.optimize import minimize"
   ]
  },
  {
   "cell_type": "code",
   "execution_count": null,
   "id": "e25e7f86",
   "metadata": {},
   "outputs": [],
   "source": [
    "ph_gamma_gradient_fun = jax.grad(ph_gamma, argnums=0)\n",
    "\n",
    "def ph_gamma_and_grad(lambdas, legend_matrix, gs, g_exp, weights_ref, alphas, ph_weights):\n",
    "    args = (lambdas, legend_matrix, gs, g_exp, weights_ref, alphas, ph_weights)\n",
    "    gamma = ph_gamma(*args)\n",
    "    grad = ph_gamma_gradient_fun(*args)\n",
    "    return gamma, grad"
   ]
  },
  {
   "cell_type": "markdown",
   "id": "681f6d8a",
   "metadata": {},
   "source": [
    "#### Examples"
   ]
  },
  {
   "cell_type": "code",
   "execution_count": 13,
   "id": "f7b837b9",
   "metadata": {},
   "outputs": [
    {
     "data": {
      "text/plain": [
       "Array([-0.89620079, -0.79620078, -0.89620079, -0.48329854, -0.38329854,\n",
       "       -0.18329856, -0.86773447, -0.80662741, -0.60662742, -0.30662741,\n",
       "       -1.00662742, -0.65846141, -0.65846141], dtype=float64)"
      ]
     },
     "execution_count": 13,
     "metadata": {},
     "output_type": "execute_result"
    }
   ],
   "source": [
    "args = (lambdas, legend_matrix, gs, g_exp, weights_ref, alphas, ph_weights)\n",
    "\n",
    "ph_gamma_gradient_fun(*args)"
   ]
  },
  {
   "cell_type": "code",
   "execution_count": null,
   "id": "4048906e",
   "metadata": {},
   "outputs": [],
   "source": [
    "args = (legend_matrix, gs, g_exp, weights_ref, alphas, ph_weights)\n",
    "\n",
    "mini = minimize(ph_gamma_and_grad, lambdas, args=args, method='BFGS', jac=True)  # , options={'gtol': gtol})\n"
   ]
  },
  {
   "cell_type": "code",
   "execution_count": 19,
   "id": "590b16aa",
   "metadata": {},
   "outputs": [
    {
     "data": {
      "text/plain": [
       "Array(-9.76651757, dtype=float64)"
      ]
     },
     "execution_count": 19,
     "metadata": {},
     "output_type": "execute_result"
    }
   ],
   "source": [
    "ph_gamma(lambdas, *args)"
   ]
  },
  {
   "cell_type": "code",
   "execution_count": 17,
   "id": "26e33de9",
   "metadata": {},
   "outputs": [
    {
     "data": {
      "text/plain": [
       "  message: Optimization terminated successfully.\n",
       "  success: True\n",
       "   status: 0\n",
       "      fun: -91.52374329652514\n",
       "        x: [ 2.752e+01  1.752e+01 ...  4.343e+01  4.343e+01]\n",
       "      nit: 41\n",
       "      jac: [ 5.361e-06  4.801e-06 ... -2.000e-06 -2.000e-06]\n",
       " hess_inv: [[ 2.057e+01  1.864e+01 ...  2.576e+00  2.576e+00]\n",
       "            [ 1.864e+01  2.145e+01 ...  2.100e+00  2.100e+00]\n",
       "            ...\n",
       "            [ 2.576e+00  2.100e+00 ...  2.596e+01  2.496e+01]\n",
       "            [ 2.576e+00  2.100e+00 ...  2.496e+01  2.596e+01]]\n",
       "     nfev: 44\n",
       "     njev: 44"
      ]
     },
     "execution_count": 17,
     "metadata": {},
     "output_type": "execute_result"
    }
   ],
   "source": [
    "mini"
   ]
  },
  {
   "cell_type": "markdown",
   "id": "57c3be4f",
   "metadata": {},
   "source": [
    "sanity check: $\\min \\Gamma$ is negative as it should be because it is the opposite of the loss function (which is always positive) in its minimum (a part from the KL term for the pH weights)"
   ]
  },
  {
   "cell_type": "code",
   "execution_count": 20,
   "id": "ee3885e7",
   "metadata": {},
   "outputs": [
    {
     "data": {
      "text/plain": [
       "array([ 27.51887624,  17.51882008,  27.51887624,  30.96435588,\n",
       "        20.96430046,   0.96418962,  60.56810478,  29.01927541,\n",
       "         9.01916457, -20.98100467,  49.01938849,  43.4309016 ,\n",
       "        43.4309016 ])"
      ]
     },
     "execution_count": 20,
     "metadata": {},
     "output_type": "execute_result"
    }
   ],
   "source": [
    "mini.x"
   ]
  },
  {
   "cell_type": "code",
   "execution_count": 21,
   "id": "5a89137f",
   "metadata": {},
   "outputs": [
    {
     "data": {
      "text/plain": [
       "  message: Optimization terminated successfully.\n",
       "  success: True\n",
       "   status: 0\n",
       "      fun: -91.5237432980671\n",
       "        x: [ 2.752e+01  1.752e+01 ...  4.343e+01  4.343e+01]\n",
       "      nit: 42\n",
       "      jac: [ 4.692e-06  4.287e-06 ... -1.730e-06 -1.730e-06]\n",
       " hess_inv: [[ 2.126e+01  1.960e+01 ...  3.817e+00  3.817e+00]\n",
       "            [ 1.960e+01  2.290e+01 ...  3.846e+00  3.846e+00]\n",
       "            ...\n",
       "            [ 3.817e+00  3.846e+00 ...  2.657e+01  2.557e+01]\n",
       "            [ 3.817e+00  3.846e+00 ...  2.557e+01  2.657e+01]]\n",
       "     nfev: 44\n",
       "     njev: 44"
      ]
     },
     "execution_count": 21,
     "metadata": {},
     "output_type": "execute_result"
    }
   ],
   "source": [
    "new_lambdas = np.zeros(len(lambdas))\n",
    "\n",
    "mini = minimize(ph_gamma_and_grad, new_lambdas, args=args, method='BFGS', jac=True)  # , options={'gtol': gtol})\n",
    "\n",
    "mini"
   ]
  },
  {
   "cell_type": "markdown",
   "id": "31a04e4f",
   "metadata": {},
   "source": [
    "### Main functions 2: `ph_loss`"
   ]
  },
  {
   "cell_type": "markdown",
   "id": "9aa7f1cc",
   "metadata": {},
   "source": [
    "\\begin{equation}\n",
    "w_{ij}(\\vec\\pi) = \\frac{\\pi_j \\, e^{\\beta\\Delta\\mu_i N_j}}{\\sum_j \\pi_j \\, e^{\\beta\\Delta\\mu_i N_j}}\n",
    "\\tag{4}\n",
    "\\end{equation}\n",
    "\n",
    "where $e^{\\beta\\Delta\\mu_i}$ is the fugacity factor for pH n. i ($\\Delta\\mu_i$)\n",
    "\n",
    "\\begin{equation}\n",
    "\\tilde{\\mathcal L} (\\vec\\pi) = -\\min_{\\vec\\lambda} \\Gamma(\\vec\\lambda;\\vec\\pi) + \\alpha D_{KL}[\\vec\\pi || \\vec\\pi_0]\n",
    "\\tag{5}\n",
    "\\end{equation}\n",
    "\n",
    "\n",
    "- the constraint $\\pi_i \\geq 0$ can be imposed with a change of variable to the log weights $\\pi_i = e^{\\nu_i}$ (this excludes $\\pi_i =0$ but we can go arbitrarily close so it's fine); then there is the constraint $\\sum_i \\pi_i = 1$; minimizing over $\\pi_i$ can be casted to a minimization over $\\nu_i$"
   ]
  },
  {
   "cell_type": "markdown",
   "id": "295ca81b",
   "metadata": {},
   "source": [
    "input variables of `ph_loss`:\n",
    "- the variables to optimize: `log_pi_vec` $\\log\\pi_j$ and `lambdas` $\\vec\\lambda$\n",
    "- a Boolean variable `is_lambdas_fixed` that is `True` if we do not want to minimize over $\\vec\\lambda$; this is useful when we have already minimized over $\\lambda$ and we are interested in computing the derivatives of $\\mathcal L$ with respect to $\\vec\\pi$, since in this case the partial derivatives of $\\mathcal L$ with respect to $\\vec\\lambda$ are zero and we can use `jax.grad` to get the gradient of $\\mathcal L(\\vec\\pi)$ (otherwise `jax.grad` will consider also the minimization process!)\n",
    "- the hyperparameters $\\alpha$ (for $\\vec\\pi$ regularization) and $\\alpha_j$ (for the regularization over $P_j$); you should include also the possibility for a single $\\alpha_j$ value\n",
    "- the `ph_data` object, that includes all the fixed variables upon which you minimize the loss function based on reweighting (it includes: $\\sigma_{ki,exp},\\,g_{ki,exp},\\,g_k(x)$ with $x$ in each protonation state, $P_{0j}(x)$, $\\vec\\pi_0$, the fugacity factors $e^{\\beta\\Delta\\mu_i}$ related to pH values, the protonation numbers $N_j$ and also the `legend_matrix`)"
   ]
  },
  {
   "cell_type": "code",
   "execution_count": 93,
   "id": "96c2b59e",
   "metadata": {},
   "outputs": [],
   "source": [
    "def compute_ph_weights_old(pi, fugacity, ns):\n",
    "    # this if the first input variable is the weights and not their logarithm\n",
    "    ph_weights = pi*fugacity**ns\n",
    "\n",
    "    ph_weights /= np.sum(ph_weights)\n",
    "    return ph_weights\n",
    "\n",
    "def compute_ph_weights(log_pi, log_fugacity, ns):\n",
    "    ph_weights = np.exp(log_pi + log_fugacity*ns)\n",
    "    ph_weights /= np.sum(ph_weights)\n",
    "    return ph_weights"
   ]
  },
  {
   "cell_type": "code",
   "execution_count": null,
   "id": "98661b30",
   "metadata": {},
   "outputs": [],
   "source": [
    "def ph_loss(log_pi_vec, lambdas, is_lambdas_fixed, alpha_pi, alphas, ph_data):\n",
    "    \"\"\"\n",
    "    This is the loss function $\\tilde{\\mathcal L}(\\log\\pi_j)$ depending on `log_pi_vec`.\n",
    "\n",
    "    It does not depend on `lambdas` in the sense that:\n",
    "    - if `is_lambdas_fixed` is True, then the optimal lambdas are determined by minimizing the `ph_gamma`\n",
    "        function at given `log_pi_vec` with input `lambdas` used only as a starting point for the minimization;\n",
    "    - else, we suppose the input `lambdas` are already the optimal ones and we just compute corresponding\n",
    "        `ph_gamma` value; this is useful when we have already minimized over $\\lambda$ and we want to compute\n",
    "        the derivatives of $\\mathcal L$ with respect to $\\vec\\pi$, since in this case the partial derivatives\n",
    "        of $\\mathcal L$ with respect to $\\vec\\lambda$ are zero and we can use `jax.grad` to get the gradient\n",
    "        of $\\mathcal L(\\vec\\pi)$ (otherwise `jax.grad` will consider also the minimization process!)\n",
    "    \n",
    "    Parameters:\n",
    "    ----------\n",
    "\n",
    "    log_pi_vec : 1-D array-like\n",
    "        The variables $\\log\\pi_j$ to optimize (probabilities of the protonation states).\n",
    "    \n",
    "    lambdas : 1-D array-like\n",
    "        The `lambdas` variables.\n",
    "\n",
    "    is_lambdas_fixed : Bool\n",
    "        Boolean variable, `True` if we do not want to minimize over $\\vec\\lambda$.\n",
    "\n",
    "    alpha_pi : float\n",
    "        The hyperparameter for the regularization of $\\vec\\pi$.\n",
    "\n",
    "    alphas : 1-D array-like\n",
    "        The hyperparameters for the regularization over $P_j$; you should include also the possibility for\n",
    "        equal value for all the $P_j$.\n",
    "\n",
    "    ph_data : object of class Ph_data\n",
    "        This object includes all the fixed variables upon which you minimize the loss function based on\n",
    "        reweighting.\n",
    "        (it includes: $\\sigma_{ki,exp},\\,g_{ki,exp},\\,g_k(x)$ with $x$ in each protonation state,\n",
    "        $P_{0j}(x)$, $\\vec\\pi_0$, the fugacity factors $e^{\\beta\\Delta\\mu_i}$ related to pH values, the protonation numbers $N_j$ and also the `legend_matrix`)\n",
    "    \n",
    "    Return\n",
    "    ----------\n",
    "\n",
    "    loss : float\n",
    "        Value of the `ph_loss` function $\\mathcal L$, corresponding to $\\mathcal L$ since we are in the minimum\n",
    "        over $\\vec\\lambda$.\n",
    "    \"\"\"\n",
    "    \n",
    "    # 1. compute ph_weights from pi_vec (ph_weights is a 2d array, `ph_weights[i, j]` is the probability\n",
    "    # of the protonation state `j` at pH `i`, normalized over `j` for every `i`)\n",
    "    ph_weights = []\n",
    "\n",
    "    for log_fug in ph_data.log_fugacities:\n",
    "        weights = compute_ph_weights(log_pi_vec, log_fug, ph_data.n_prot)\n",
    "        weights /= np.sum(weights)\n",
    "        ph_weights.append(weights)\n",
    "    \n",
    "    ph_weights = np.array(ph_weights)\n",
    "    \n",
    "    # 2. minimize Gamma function at given ph_weights (or evaluate Gamma at optimal lambdas)\n",
    "    exp_values = np.vstack((ph_data.g_exp, ph_data.sigma_exp))\n",
    "    args = (ph_data.legend_matrix, ph_data.gs, exp_values, ph_data.weights_ref, alphas, ph_weights)\n",
    "\n",
    "    if not is_lambdas_fixed:\n",
    "        mini = minimize(ph_gamma_and_grad, lambdas, args=args, method='BFGS', jac=True)  # , options={'gtol': gtol})\n",
    "        gamma = mini.fun\n",
    "    else:\n",
    "        gamma = ph_gamma(lambdas, *args)\n",
    "    \n",
    "    # 3. compute the loss value\n",
    "    pi_vec = np.exp(log_pi_vec)\n",
    "    pi_vec /= np.sum(pi_vec)\n",
    "    \n",
    "    dkl = np.sum(np.exp(log_pi_vec)*(log_pi_vec - ph_data.log_pi_ref))\n",
    "    loss = - gamma + alpha_pi*dkl\n",
    "\n",
    "    return loss"
   ]
  },
  {
   "cell_type": "code",
   "execution_count": 45,
   "id": "66fed884",
   "metadata": {},
   "outputs": [],
   "source": [
    "ph_loss_gradient_fun = jax.grad(ph_loss, argnums=0)"
   ]
  },
  {
   "cell_type": "code",
   "execution_count": null,
   "id": "417e2ff4",
   "metadata": {},
   "outputs": [],
   "source": [
    "def ph_loss_and_grad(lambdas, legend_matrix, gs, g_exp, weights_ref, alphas, ph_weights):\n",
    "    args = (pi_vec, ref_pi, alpha_pi, lambdas, legend_matrix, gs, g_exp, weights_ref, alphas, fugacities, n_prot, is_fixed):\n",
    "    loss = ph_loss(*args)\n",
    "    grad = ph_loss_gradient_fun(*args)\n",
    "    return loss, grad"
   ]
  },
  {
   "cell_type": "markdown",
   "id": "ad8c9917",
   "metadata": {},
   "source": [
    "### Main functions 3: `load_ph_data`"
   ]
  },
  {
   "cell_type": "markdown",
   "id": "46674cf9",
   "metadata": {},
   "source": [
    "log fugacities:\n",
    "\n",
    "\\begin{equation}\n",
    "e^{\\beta\\Delta\\mu} = 10^{-\\Delta pH}\n",
    "\\end{equation}"
   ]
  },
  {
   "cell_type": "code",
   "execution_count": null,
   "id": "78c3834d",
   "metadata": {},
   "outputs": [
    {
     "name": "stdout",
     "output_type": "stream",
     "text": [
      "Defaulting to user installation because normal site-packages is not writeable\n",
      "Requirement already satisfied: bussilab in /home/ivang/.local/lib/python3.9/site-packages (0.0.40)\n",
      "Requirement already satisfied: argcomplete in /usr/lib/python3.9/site-packages (from bussilab) (1.12.0)\n",
      "Requirement already satisfied: networkx in /home/ivang/.local/lib/python3.9/site-packages (from bussilab) (2.8.4)\n",
      "Requirement already satisfied: numba in /home/ivang/.local/lib/python3.9/site-packages (from bussilab) (0.60.0)\n",
      "Requirement already satisfied: numpy in /home/ivang/.local/lib/python3.9/site-packages (from bussilab) (1.23.1)\n",
      "Requirement already satisfied: scipy in /home/ivang/.local/lib/python3.9/site-packages (from bussilab) (1.13.1)\n",
      "Requirement already satisfied: slack-sdk in /home/ivang/.local/lib/python3.9/site-packages (from bussilab) (3.17.2)\n",
      "Requirement already satisfied: pyyaml in /home/ivang/.local/lib/python3.9/site-packages (from bussilab) (6.0)\n",
      "Requirement already satisfied: typing_extensions in /home/ivang/.local/lib/python3.9/site-packages (from bussilab) (4.2.0)\n",
      "Requirement already satisfied: llvmlite<0.44,>=0.43.0dev0 in /home/ivang/.local/lib/python3.9/site-packages (from numba->bussilab) (0.43.0)\n"
     ]
    }
   ],
   "source": [
    "!pip install bussilab"
   ]
  },
  {
   "cell_type": "code",
   "execution_count": null,
   "id": "73e628cd",
   "metadata": {},
   "outputs": [],
   "source": [
    "from bussilab import coretools"
   ]
  },
  {
   "cell_type": "code",
   "execution_count": null,
   "id": "cc58c387",
   "metadata": {},
   "outputs": [],
   "source": [
    "Ph_data(g_exp, sigma_exp, gs, weights, pi0, log_fugacities, ns_prot, obs_names, )"
   ]
  },
  {
   "cell_type": "code",
   "execution_count": null,
   "id": "31d5d310",
   "metadata": {},
   "outputs": [],
   "source": [
    "class Ph_data(coretools.Result):\n",
    "    def __init__(self, g_exp : np.ndarray, sigma_exp : np.ndarray, legend_matrix : np.ndarray,\n",
    "                 gs : dict, weights : dict, legend_weights : dict, pi0 : np.ndarray,\n",
    "                 log_fugacities : np.ndarray, ns_prot : np.ndarray, obs_names : list):\n",
    "        \"\"\" Class with the fixed quantities that are required to evaluate the loss function `ph_loss`. \"\"\"\n",
    "        \n",
    "        super().__init__()\n",
    "\n",
    "        self.g_exp = g_exp\n",
    "        \"\"\" 1-D array-like with experimental values \"\"\"\n",
    "\n",
    "        self.sigma_exp = sigma_exp\n",
    "        \"\"\" 1-D array-like with experimental uncertainties \"\"\"\n",
    "\n",
    "        self.legend_matrix = legend_matrix\n",
    "        \"\"\" `legend_matrix` returned by `Manage_indices`, needed to correctly map 1-D arrays `g_exp` and\n",
    "        `sigma_exp` to corresponding observable and pH value \"\"\"\n",
    "        \n",
    "        self.gs = gs\n",
    "        \"\"\" Dict of 2-D array-like; each item correspond to a protonation state and its value is\n",
    "        the 2-D array (M x N) of observables computed from MD simulations, with M the total n. of frames\n",
    "        at given protonation state from all the simulations at constant pH and N the n. of observables \"\"\"\n",
    "\n",
    "        self.p0s = weights\n",
    "        \"\"\" Dict of 1-D array-like with the reference normalized weights for each protonation state,\n",
    "        given by the collection of all the sampled configurations at that protonation state from the\n",
    "        simulations at constant pH \"\"\"\n",
    "\n",
    "        self.legend_weights = legend_weights\n",
    "        \"\"\" Dict with lists of indices to map back the NumPy arrays with weights and observables from a unique\n",
    "        array at fixed protonation state to the contributions from multiple constant-pH simulations \"\"\"\n",
    "\n",
    "        self.pi0 = pi0\n",
    "        \"\"\" 1-D array-like with the original (namely, initial hypothesis) probabilities to be at the\n",
    "        j-th protonation state for the reference pH value \"\"\"\n",
    "\n",
    "        self.log_fugacities = log_fugacities\n",
    "        \"\"\" 1-D array-like with the logarithm of the fugacity factors, namely the values of\n",
    "        $\\beta \\Delta \\mu_i$ (length given by the n. of pH values) \"\"\"\n",
    "\n",
    "        self.ns_prot = ns_prot\n",
    "        \"\"\" 1-D array-like with the numbers of protonation (length given by the n. of protonation states) \"\"\"\n",
    "        \n",
    "        self.obs_names = obs_names\n",
    "        \"\"\" List with the names of the observables (length given by the total n. of observables) \"\"\""
   ]
  },
  {
   "cell_type": "markdown",
   "id": "63372838",
   "metadata": {},
   "source": [
    "### Load data"
   ]
  },
  {
   "cell_type": "code",
   "execution_count": 3,
   "id": "e0dd45ff",
   "metadata": {},
   "outputs": [],
   "source": [
    "import pandas\n",
    "import matplotlib.pyplot as plt"
   ]
  },
  {
   "cell_type": "markdown",
   "id": "1f0568a3",
   "metadata": {},
   "source": [
    "1. from folder with constant-pH simulations to Numpy arrays with: observables, weights, protonation states; list of `ph_vals`, `obs_names` (the same for all the constant pH simulations, I can always compute them from simulations), and `ns_prot` (protonation states)\n",
    "2. from each constant-pH simulation, take the frames corresponding to each protonation state and collect together the corresponding data (observables and weights) split per protonation state; in addition, compute $\\pi_0$, take note of which lines correspond to each pH value (to go back in order to get back weights and compute average values for each pH value after/during the refinement, so use an array `legend_weights` to map back); check consistency among multiple canonical ensembles\n",
    "3. build object `ph_data` with `g_exp`, `sigma_exp`, `legend_matrix`, `gs`, `weights`, `legend_weights`, `pi0`, `log_fugacities` $e^{\\beta\\mu_i}$, `ns_prot`, `obs_names`"
   ]
  },
  {
   "cell_type": "code",
   "execution_count": 32,
   "id": "ca8942d6",
   "metadata": {},
   "outputs": [
    {
     "name": "stderr",
     "output_type": "stream",
     "text": [
      "/home/ivang/.local/lib/python3.9/site-packages/IPython/core/interactiveshell.py:3444: DtypeWarning: Columns (0) have mixed types.Specify dtype option on import or set low_memory=False.\n",
      "  exec(code_obj, self.user_global_ns, self.user_ns)\n"
     ]
    }
   ],
   "source": [
    "path = 'Simulation-data/A5mer/'\n",
    "\n",
    "ns = {}\n",
    "gs = {}\n",
    "weights = {}\n",
    "\n",
    "ph_vals = [3.50, 4.00, 4.50]\n",
    "obs_names = ['chi', 'eRMSD']\n",
    "\n",
    "for ph in ph_vals:\n",
    "    ns[ph] = np.array(pandas.read_csv(path + 'A5mer_pH0%.2f.occ' % ph, header=None).iloc[:, 0])\n",
    "    \n",
    "    # df = pandas.read_csv(path + 'COLVAR_REWEIGHT_0%.2f' % ph, header=3, sep=' ').iloc[:, :4]\n",
    "    # df.columns = list(pandas.read_csv(path + 'COLVAR_REWEIGHT_0%.2f' % ph, nrows=0, sep=' '))[2:]\n",
    "    \n",
    "    df = pandas.read_csv(path + 'COLVAR_REWEIGHT_0%.2f_weighted' % ph, header=0, sep=' ')[1:]#.iloc[:, :1]\n",
    "\n",
    "    gs[ph] = df[obs_names]\n",
    "    weights[ph] = np.array(df['weight'])\n",
    "\n",
    "ns_prot = numpy.unique([ns[ph] for ph in ph_vals])"
   ]
  },
  {
   "cell_type": "code",
   "execution_count": 59,
   "id": "675269dd",
   "metadata": {},
   "outputs": [],
   "source": [
    "my_gs = {}\n",
    "my_ws = {}\n",
    "my_legend = {}\n",
    "\n",
    "for n_prot in ns_prot:\n",
    "    # n_prot = int(n_prot)\n",
    "    my_gs[n_prot] = []\n",
    "    my_ws[n_prot] = []\n",
    "    my_legend[n_prot] = []\n",
    "\n",
    "    for ph in ph_vals:\n",
    "        # my_gs[n_prot].append(np.array(gs[ph].iloc[ns[ph] == n_prot].loc[0][obs_names]))\n",
    "        # my_gs[n_prot].append(gs[ph][ns[ph].to_numpy() == n_prot])\n",
    "        my_gs[n_prot].append(np.array(gs[ph])[ns[ph] == n_prot])\n",
    "        my_ws[n_prot].append(weights[ph][ns[ph] == n_prot])\n",
    "        my_legend[n_prot].append(len(my_ws[n_prot][-1]))\n",
    "    \n",
    "    # my_gs[n_prot] = np.vstack(my_gs[n_prot])\n",
    "    # my_ws[n_prot] = np.hstack(my_ws[n_prot])\n",
    "\n"
   ]
  },
  {
   "cell_type": "code",
   "execution_count": 112,
   "id": "9b63203b",
   "metadata": {},
   "outputs": [
    {
     "data": {
      "text/plain": [
       "Array([0.69996411, 0.30003589], dtype=float64)"
      ]
     },
     "execution_count": 112,
     "metadata": {},
     "output_type": "execute_result"
    }
   ],
   "source": [
    "i_ph = 2\n",
    "\n",
    "my_vals = []\n",
    "\n",
    "for n_prot in ns_prot:\n",
    "    my_vals.append(np.sum(my_ws[n_prot][i_ph])/np.sum(weights[ph_vals[i_ph]]))\n",
    "\n",
    "pi0 = np.array(my_vals)\n",
    "\n",
    "pi0"
   ]
  },
  {
   "cell_type": "code",
   "execution_count": 123,
   "id": "fc784462",
   "metadata": {},
   "outputs": [
    {
     "data": {
      "text/plain": [
       "{3.5: Array([0.07219962, 0.92780038], dtype=float64),\n",
       " 4.0: Array([0.22398544, 0.77601456], dtype=float64),\n",
       " 4.5: Array([0.69996411, 0.30003589], dtype=float64)}"
      ]
     },
     "execution_count": 123,
     "metadata": {},
     "output_type": "execute_result"
    }
   ],
   "source": [
    "my_ratios = {}\n",
    "\n",
    "for i_ph, ph in enumerate(ph_vals):\n",
    "    my_ratios[ph] = []\n",
    "    for n_prot in ns_prot:\n",
    "        my_ratios[ph].append(np.sum(my_ws[n_prot][i_ph])/np.sum(weights[ph_vals[i_ph]]))\n",
    "    my_ratios[ph] = np.array(my_ratios[ph])\n",
    "\n",
    "my_ratios\n"
   ]
  },
  {
   "cell_type": "code",
   "execution_count": 124,
   "id": "747e1010",
   "metadata": {},
   "outputs": [
    {
     "data": {
      "text/plain": [
       "Array([0.07219962, 0.92780038], dtype=float64)"
      ]
     },
     "execution_count": 124,
     "metadata": {},
     "output_type": "execute_result"
    }
   ],
   "source": [
    "ref_pi0 = my_ratios[3.5]\n",
    "\n",
    "ref_pi0"
   ]
  },
  {
   "cell_type": "code",
   "execution_count": 125,
   "id": "34e9d325",
   "metadata": {},
   "outputs": [
    {
     "data": {
      "text/plain": [
       "{0.5: Array([0.19748479, 0.80251521], dtype=float64),\n",
       " 1: Array([0.43762741, 0.56237259], dtype=float64)}"
      ]
     },
     "execution_count": 125,
     "metadata": {},
     "output_type": "execute_result"
    }
   ],
   "source": [
    "# exp(\\beta\\Delta\\mu) = 10^{\\Delta pH}\n",
    "my_pis = {}\n",
    "\n",
    "for delta_ph in [0.5, 1]:\n",
    "    log_fugs = np.log(10**(-delta_ph))\n",
    "    my_pis[delta_ph] = compute_ph_weights(np.log(ref_pi0), log_fugs, ns_prot)\n",
    "\n",
    "my_pis"
   ]
  },
  {
   "cell_type": "code",
   "execution_count": null,
   "id": "4b3167b2",
   "metadata": {},
   "outputs": [
    {
     "ename": "TypeError",
     "evalue": "sum requires ndarray or scalar arguments, got <class 'list'> at position 0.",
     "output_type": "error",
     "traceback": [
      "\u001b[0;31m---------------------------------------------------------------------------\u001b[0m",
      "\u001b[0;31mTypeError\u001b[0m                                 Traceback (most recent call last)",
      "\u001b[0;32m/tmp/ipykernel_4748/386001849.py\u001b[0m in \u001b[0;36m<module>\u001b[0;34m\u001b[0m\n\u001b[0;32m----> 1\u001b[0;31m \u001b[0mnp\u001b[0m\u001b[0;34m.\u001b[0m\u001b[0msum\u001b[0m\u001b[0;34m(\u001b[0m\u001b[0mmy_ws\u001b[0m\u001b[0;34m[\u001b[0m\u001b[0mn_prot\u001b[0m\u001b[0;34m]\u001b[0m\u001b[0;34m[\u001b[0m\u001b[0;36m0\u001b[0m\u001b[0;34m]\u001b[0m\u001b[0;34m)\u001b[0m\u001b[0;34m/\u001b[0m\u001b[0mnp\u001b[0m\u001b[0;34m.\u001b[0m\u001b[0msum\u001b[0m\u001b[0;34m(\u001b[0m\u001b[0mmy_ws\u001b[0m\u001b[0;34m[\u001b[0m\u001b[0mn_prot\u001b[0m\u001b[0;34m]\u001b[0m\u001b[0;34m)\u001b[0m\u001b[0;34m\u001b[0m\u001b[0;34m\u001b[0m\u001b[0m\n\u001b[0m",
      "\u001b[0;32m~/.local/lib/python3.9/site-packages/jax/_src/numpy/reductions.py\u001b[0m in \u001b[0;36msum\u001b[0;34m(a, axis, dtype, out, keepdims, initial, where, promote_integers)\u001b[0m\n\u001b[1;32m    229\u001b[0m         \u001b[0mout\u001b[0m\u001b[0;34m:\u001b[0m \u001b[0;32mNone\u001b[0m \u001b[0;34m=\u001b[0m \u001b[0;32mNone\u001b[0m\u001b[0;34m,\u001b[0m \u001b[0mkeepdims\u001b[0m\u001b[0;34m:\u001b[0m \u001b[0mbool\u001b[0m \u001b[0;34m=\u001b[0m \u001b[0;32mFalse\u001b[0m\u001b[0;34m,\u001b[0m \u001b[0minitial\u001b[0m\u001b[0;34m:\u001b[0m \u001b[0mArrayLike\u001b[0m \u001b[0;34m|\u001b[0m \u001b[0;32mNone\u001b[0m \u001b[0;34m=\u001b[0m \u001b[0;32mNone\u001b[0m\u001b[0;34m,\u001b[0m\u001b[0;34m\u001b[0m\u001b[0;34m\u001b[0m\u001b[0m\n\u001b[1;32m    230\u001b[0m         where: ArrayLike | None = None, promote_integers: bool = True) -> Array:\n\u001b[0;32m--> 231\u001b[0;31m   return _reduce_sum(a, axis=_ensure_optional_axes(axis), dtype=dtype, out=out,\n\u001b[0m\u001b[1;32m    232\u001b[0m                      \u001b[0mkeepdims\u001b[0m\u001b[0;34m=\u001b[0m\u001b[0mkeepdims\u001b[0m\u001b[0;34m,\u001b[0m \u001b[0minitial\u001b[0m\u001b[0;34m=\u001b[0m\u001b[0minitial\u001b[0m\u001b[0;34m,\u001b[0m \u001b[0mwhere\u001b[0m\u001b[0;34m=\u001b[0m\u001b[0mwhere\u001b[0m\u001b[0;34m,\u001b[0m\u001b[0;34m\u001b[0m\u001b[0;34m\u001b[0m\u001b[0m\n\u001b[1;32m    233\u001b[0m                      promote_integers=promote_integers)\n",
      "    \u001b[0;31m[... skipping hidden 11 frame]\u001b[0m\n",
      "\u001b[0;32m~/.local/lib/python3.9/site-packages/jax/_src/numpy/reductions.py\u001b[0m in \u001b[0;36m_reduce_sum\u001b[0;34m(a, axis, dtype, out, keepdims, initial, where, promote_integers)\u001b[0m\n\u001b[1;32m    219\u001b[0m                 \u001b[0minitial\u001b[0m\u001b[0;34m:\u001b[0m \u001b[0mArrayLike\u001b[0m \u001b[0;34m|\u001b[0m \u001b[0;32mNone\u001b[0m \u001b[0;34m=\u001b[0m \u001b[0;32mNone\u001b[0m\u001b[0;34m,\u001b[0m \u001b[0mwhere\u001b[0m\u001b[0;34m:\u001b[0m \u001b[0mArrayLike\u001b[0m \u001b[0;34m|\u001b[0m \u001b[0;32mNone\u001b[0m \u001b[0;34m=\u001b[0m \u001b[0;32mNone\u001b[0m\u001b[0;34m,\u001b[0m\u001b[0;34m\u001b[0m\u001b[0;34m\u001b[0m\u001b[0m\n\u001b[1;32m    220\u001b[0m                 promote_integers: bool = True) -> Array:\n\u001b[0;32m--> 221\u001b[0;31m   return _reduction(a, \"sum\", np.sum, lax.add, 0, preproc=_cast_to_numeric,\n\u001b[0m\u001b[1;32m    222\u001b[0m                     \u001b[0mbool_op\u001b[0m\u001b[0;34m=\u001b[0m\u001b[0mlax\u001b[0m\u001b[0;34m.\u001b[0m\u001b[0mbitwise_or\u001b[0m\u001b[0;34m,\u001b[0m \u001b[0mupcast_f16_for_computation\u001b[0m\u001b[0;34m=\u001b[0m\u001b[0;32mTrue\u001b[0m\u001b[0;34m,\u001b[0m\u001b[0;34m\u001b[0m\u001b[0;34m\u001b[0m\u001b[0m\n\u001b[1;32m    223\u001b[0m                     \u001b[0maxis\u001b[0m\u001b[0;34m=\u001b[0m\u001b[0maxis\u001b[0m\u001b[0;34m,\u001b[0m \u001b[0mdtype\u001b[0m\u001b[0;34m=\u001b[0m\u001b[0mdtype\u001b[0m\u001b[0;34m,\u001b[0m \u001b[0mout\u001b[0m\u001b[0;34m=\u001b[0m\u001b[0mout\u001b[0m\u001b[0;34m,\u001b[0m \u001b[0mkeepdims\u001b[0m\u001b[0;34m=\u001b[0m\u001b[0mkeepdims\u001b[0m\u001b[0;34m,\u001b[0m\u001b[0;34m\u001b[0m\u001b[0;34m\u001b[0m\u001b[0m\n",
      "\u001b[0;32m~/.local/lib/python3.9/site-packages/jax/_src/numpy/reductions.py\u001b[0m in \u001b[0;36m_reduction\u001b[0;34m(a, name, np_fun, op, init_val, has_identity, preproc, bool_op, upcast_f16_for_computation, axis, dtype, out, keepdims, initial, where_, parallel_reduce, promote_integers)\u001b[0m\n\u001b[1;32m     98\u001b[0m   \u001b[0;32mif\u001b[0m \u001b[0mout\u001b[0m \u001b[0;32mis\u001b[0m \u001b[0;32mnot\u001b[0m \u001b[0;32mNone\u001b[0m\u001b[0;34m:\u001b[0m\u001b[0;34m\u001b[0m\u001b[0;34m\u001b[0m\u001b[0m\n\u001b[1;32m     99\u001b[0m     \u001b[0;32mraise\u001b[0m \u001b[0mNotImplementedError\u001b[0m\u001b[0;34m(\u001b[0m\u001b[0;34mf\"The 'out' argument to jnp.{name} is not supported.\"\u001b[0m\u001b[0;34m)\u001b[0m\u001b[0;34m\u001b[0m\u001b[0;34m\u001b[0m\u001b[0m\n\u001b[0;32m--> 100\u001b[0;31m   \u001b[0mcheck_arraylike\u001b[0m\u001b[0;34m(\u001b[0m\u001b[0mname\u001b[0m\u001b[0;34m,\u001b[0m \u001b[0ma\u001b[0m\u001b[0;34m)\u001b[0m\u001b[0;34m\u001b[0m\u001b[0;34m\u001b[0m\u001b[0m\n\u001b[0m\u001b[1;32m    101\u001b[0m   \u001b[0mdtypes\u001b[0m\u001b[0;34m.\u001b[0m\u001b[0mcheck_user_dtype_supported\u001b[0m\u001b[0;34m(\u001b[0m\u001b[0mdtype\u001b[0m\u001b[0;34m,\u001b[0m \u001b[0mname\u001b[0m\u001b[0;34m)\u001b[0m\u001b[0;34m\u001b[0m\u001b[0;34m\u001b[0m\u001b[0m\n\u001b[1;32m    102\u001b[0m   \u001b[0maxis\u001b[0m \u001b[0;34m=\u001b[0m \u001b[0mcore\u001b[0m\u001b[0;34m.\u001b[0m\u001b[0mconcrete_or_error\u001b[0m\u001b[0;34m(\u001b[0m\u001b[0;32mNone\u001b[0m\u001b[0;34m,\u001b[0m \u001b[0maxis\u001b[0m\u001b[0;34m,\u001b[0m \u001b[0;34mf\"axis argument to jnp.{name}().\"\u001b[0m\u001b[0;34m)\u001b[0m\u001b[0;34m\u001b[0m\u001b[0;34m\u001b[0m\u001b[0m\n",
      "\u001b[0;32m~/.local/lib/python3.9/site-packages/jax/_src/numpy/util.py\u001b[0m in \u001b[0;36mcheck_arraylike\u001b[0;34m(fun_name, emit_warning, stacklevel, *args)\u001b[0m\n\u001b[1;32m    333\u001b[0m                     category=DeprecationWarning, stacklevel=stacklevel)\n\u001b[1;32m    334\u001b[0m     \u001b[0;32melse\u001b[0m\u001b[0;34m:\u001b[0m\u001b[0;34m\u001b[0m\u001b[0;34m\u001b[0m\u001b[0m\n\u001b[0;32m--> 335\u001b[0;31m       \u001b[0;32mraise\u001b[0m \u001b[0mTypeError\u001b[0m\u001b[0;34m(\u001b[0m\u001b[0mmsg\u001b[0m\u001b[0;34m.\u001b[0m\u001b[0mformat\u001b[0m\u001b[0;34m(\u001b[0m\u001b[0mfun_name\u001b[0m\u001b[0;34m,\u001b[0m \u001b[0mtype\u001b[0m\u001b[0;34m(\u001b[0m\u001b[0marg\u001b[0m\u001b[0;34m)\u001b[0m\u001b[0;34m,\u001b[0m \u001b[0mpos\u001b[0m\u001b[0;34m)\u001b[0m\u001b[0;34m)\u001b[0m\u001b[0;34m\u001b[0m\u001b[0;34m\u001b[0m\u001b[0m\n\u001b[0m\u001b[1;32m    336\u001b[0m \u001b[0;34m\u001b[0m\u001b[0m\n\u001b[1;32m    337\u001b[0m \u001b[0;34m\u001b[0m\u001b[0m\n",
      "\u001b[0;31mTypeError\u001b[0m: sum requires ndarray or scalar arguments, got <class 'list'> at position 0."
     ]
    }
   ],
   "source": [
    "np.sum(my_ws[n_prot][0])/np.sum(my_ws[n_prot][0])"
   ]
  },
  {
   "cell_type": "code",
   "execution_count": 80,
   "id": "ffb039c6",
   "metadata": {},
   "outputs": [
    {
     "data": {
      "text/plain": [
       "Array(0.16217207, dtype=float64)"
      ]
     },
     "execution_count": 80,
     "metadata": {},
     "output_type": "execute_result"
    }
   ],
   "source": [
    "my_vec = my_ws[n_prot][0]\n",
    "my_vec = my_vec[my_vec != 0]\n",
    "\n",
    "np.exp(np.sum(my_vec*np.log(my_vec))/np.sum(my_vec))\n",
    "\n",
    "# np.sum(my_vec**2)/np.sum(my_vec)"
   ]
  },
  {
   "cell_type": "code",
   "execution_count": 75,
   "id": "bdabad50",
   "metadata": {},
   "outputs": [
    {
     "data": {
      "text/plain": [
       "[<matplotlib.lines.Line2D at 0x7f67e054b550>]"
      ]
     },
     "execution_count": 75,
     "metadata": {},
     "output_type": "execute_result"
    },
    {
     "data": {
      "image/png": "[encoded data removed]",
      "text/plain": [
       "<Figure size 432x288 with 1 Axes>"
      ]
     },
     "metadata": {
      "needs_background": "light"
     },
     "output_type": "display_data"
    }
   ],
   "source": [
    "plt.plot(my_vec)"
   ]
  },
  {
   "cell_type": "code",
   "execution_count": 68,
   "id": "6c2647c7",
   "metadata": {},
   "outputs": [
    {
     "data": {
      "text/plain": [
       "Array([[ True,  True,  True, ...,  True,  True,  True]], dtype=bool)"
      ]
     },
     "execution_count": 68,
     "metadata": {},
     "output_type": "execute_result"
    }
   ],
   "source": [
    "my_vec"
   ]
  },
  {
   "cell_type": "code",
   "execution_count": 58,
   "id": "bfbbbb98",
   "metadata": {},
   "outputs": [
    {
     "data": {
      "text/plain": [
       "{0: [0, 24299, 70902, 160764], 1: [0, 125701, 229098, 289236]}"
      ]
     },
     "execution_count": 58,
     "metadata": {},
     "output_type": "execute_result"
    }
   ],
   "source": [
    "my_ws[0]\n",
    "\n",
    "for n_prot in my_legend.keys():\n",
    "    my_legend[n_prot] = [0] + list(numpy.cumsum(my_legend[n_prot]))\n",
    "\n",
    "my_legend"
   ]
  },
  {
   "cell_type": "code",
   "execution_count": null,
   "id": "1c19194c",
   "metadata": {},
   "outputs": [],
   "source": [
    "def load_ph_data(obs_names, ph_vals, ns_prot, ns, gs, pH_weights, g_exp = None, sigma_exp = None):\n",
    "    \"\"\"\n",
    "    Load pH data from multiple simulations at constant pH.\n",
    "\n",
    "    Parameters\n",
    "    \n",
    "    \"\"\"\n",
    "\n",
    "    # 1. build a table for average values and standard deviations on the mean\n",
    "\n",
    "    table_av = numpy.zeros((len(obs_names), len(ph_vals)))\n",
    "    table_std = + table_av\n",
    "\n",
    "    for i, obs_name in enumerate(obs_names):\n",
    "        for j, ph in enumerate(ph_vals):\n",
    "            # first index observable, second index ph\n",
    "            if obs_name in gs[ph].columns:\n",
    "                table_av[i, j] = np.mean(np.array(gs[ph][obs_name]))\n",
    "                table_std[i, j] = np.std(np.array(gs[ph][obs_name]))/np.sqrt(len(gs[ph][obs_name]))\n",
    "    \n",
    "    if g_exp is None: g_exp = table_av\n",
    "    if sigma_exp is None: sigma_exp = table_std\n",
    "\n",
    "    # 2. protonation states\n",
    "\n",
    "    for ph in ns.keys(): ns[ph] = np.array(ns[ph])\n",
    "\n",
    "    unique_ns = []\n",
    "    for ph in ns.keys(): unique_ns.append(np.unique(ns[ph]))\n",
    "    unique_ns = np.unique(np.array(unique_ns))\n",
    "\n",
    "    # 3. observables\n",
    "\n",
    "    my_gs = {}\n",
    "\n",
    "    for n_prot in unique_ns:\n",
    "        n_prot = int(n_prot)\n",
    "        my_gs[n_prot] = []\n",
    "        for ph in ph_vals:\n",
    "            # my_gs[n_prot].append(np.array(gs[ph].iloc[ns[ph] == n_prot].loc[0][obs_names]))\n",
    "            # my_gs[n_prot].append(gs[ph][ns[ph].to_numpy() == n_prot])\n",
    "            my_gs[n_prot].append(np.array(gs[ph])[ns[ph] == n_prot])\n",
    "        my_gs[n_prot] = np.vstack(my_gs[n_prot])\n",
    "        # WATCH OUT: you could have some missing observables for a given pH\n",
    "        # False! You can always compute any observable from a constant-pH simulation\n",
    "\n",
    "    # 4. \n",
    "\n",
    "    return Ph_data(table_av, table_std, my_gs, bias, unique_ns, ph_vals, obs_names)#, legend_matrix)\n"
   ]
  },
  {
   "cell_type": "code",
   "execution_count": null,
   "id": "bcd14d27",
   "metadata": {},
   "outputs": [
    {
     "data": {
      "text/plain": [
       "[<matplotlib.lines.Line2D at 0x7f67dd4ee700>]"
      ]
     },
     "execution_count": 36,
     "metadata": {},
     "output_type": "execute_result"
    },
    {
     "data": {
      "image/png": "[encoded data removed]",
      "text/plain": [
       "<Figure size 432x288 with 1 Axes>"
      ]
     },
     "metadata": {
      "needs_background": "light"
     },
     "output_type": "display_data"
    }
   ],
   "source": [
    "gs[ph]\n",
    "\n",
    "plt.plot(ns[ph])"
   ]
  },
  {
   "cell_type": "code",
   "execution_count": 38,
   "id": "20d37577",
   "metadata": {},
   "outputs": [
    {
     "data": {
      "text/plain": [
       "89862"
      ]
     },
     "execution_count": 38,
     "metadata": {},
     "output_type": "execute_result"
    }
   ],
   "source": [
    "len(ns[ph][ns[ph] == n_prot])"
   ]
  },
  {
   "cell_type": "code",
   "execution_count": null,
   "id": "0d4d1d58",
   "metadata": {},
   "outputs": [
    {
     "data": {
      "text/plain": [
       "Array([0.087577, 0.080756, 0.047577, ..., 0.004118, 0.001836, 0.002652],      dtype=float64)"
      ]
     },
     "execution_count": 48,
     "metadata": {},
     "output_type": "execute_result"
    }
   ],
   "source": [
    "np.array(gs[ph])[ns[ph] == n_prot]\n",
    "\n",
    "for n_prot in ns_prot:\n",
    "    for ph in ph_vals:\n",
    "        weights[ph][ns[ph] == n_prot]"
   ]
  },
  {
   "cell_type": "code",
   "execution_count": 41,
   "id": "d0cc89ef",
   "metadata": {},
   "outputs": [
    {
     "data": {
      "text/plain": [
       "[Array([ True,  True,  True, ...,  True,  True,  True], dtype=bool)]"
      ]
     },
     "execution_count": 41,
     "metadata": {},
     "output_type": "execute_result"
    }
   ],
   "source": [
    "[ns[ph] == n_prot]"
   ]
  },
  {
   "cell_type": "code",
   "execution_count": 43,
   "id": "50b2c554",
   "metadata": {},
   "outputs": [
    {
     "data": {
      "text/plain": [
       "(89862, 2)"
      ]
     },
     "execution_count": 43,
     "metadata": {},
     "output_type": "execute_result"
    }
   ],
   "source": [
    "np.array(gs[ph])[ns[ph] == n_prot].shape\n",
    "\n",
    "# np.array(gs[ph].iloc[ns[ph] == n_prot].loc[0][obs_names])"
   ]
  },
  {
   "cell_type": "code",
   "execution_count": 23,
   "id": "264970bf",
   "metadata": {},
   "outputs": [
    {
     "ename": "KeyError",
     "evalue": "0",
     "output_type": "error",
     "traceback": [
      "\u001b[0;31m---------------------------------------------------------------------------\u001b[0m",
      "\u001b[0;31mKeyError\u001b[0m                                  Traceback (most recent call last)",
      "\u001b[0;32m~/.local/lib/python3.9/site-packages/pandas/core/indexes/base.py\u001b[0m in \u001b[0;36mget_loc\u001b[0;34m(self, key, method, tolerance)\u001b[0m\n\u001b[1;32m   3360\u001b[0m             \u001b[0;32mtry\u001b[0m\u001b[0;34m:\u001b[0m\u001b[0;34m\u001b[0m\u001b[0;34m\u001b[0m\u001b[0m\n\u001b[0;32m-> 3361\u001b[0;31m                 \u001b[0;32mreturn\u001b[0m \u001b[0mself\u001b[0m\u001b[0;34m.\u001b[0m\u001b[0m_engine\u001b[0m\u001b[0;34m.\u001b[0m\u001b[0mget_loc\u001b[0m\u001b[0;34m(\u001b[0m\u001b[0mcasted_key\u001b[0m\u001b[0;34m)\u001b[0m\u001b[0;34m\u001b[0m\u001b[0;34m\u001b[0m\u001b[0m\n\u001b[0m\u001b[1;32m   3362\u001b[0m             \u001b[0;32mexcept\u001b[0m \u001b[0mKeyError\u001b[0m \u001b[0;32mas\u001b[0m \u001b[0merr\u001b[0m\u001b[0;34m:\u001b[0m\u001b[0;34m\u001b[0m\u001b[0;34m\u001b[0m\u001b[0m\n",
      "\u001b[0;32m~/.local/lib/python3.9/site-packages/pandas/_libs/index.pyx\u001b[0m in \u001b[0;36mpandas._libs.index.IndexEngine.get_loc\u001b[0;34m()\u001b[0m\n",
      "\u001b[0;32m~/.local/lib/python3.9/site-packages/pandas/_libs/index.pyx\u001b[0m in \u001b[0;36mpandas._libs.index.IndexEngine.get_loc\u001b[0;34m()\u001b[0m\n",
      "\u001b[0;32m~/.local/lib/python3.9/site-packages/pandas/_libs/index.pyx\u001b[0m in \u001b[0;36mpandas._libs.index.IndexEngine._get_loc_duplicates\u001b[0;34m()\u001b[0m\n",
      "\u001b[0;32mpandas/_libs/index_class_helper.pxi\u001b[0m in \u001b[0;36mpandas._libs.index.Int64Engine._maybe_get_bool_indexer\u001b[0;34m()\u001b[0m\n",
      "\u001b[0;32m~/.local/lib/python3.9/site-packages/pandas/_libs/index.pyx\u001b[0m in \u001b[0;36mpandas._libs.index.IndexEngine._unpack_bool_indexer\u001b[0;34m()\u001b[0m\n",
      "\u001b[0;31mKeyError\u001b[0m: 0",
      "\nThe above exception was the direct cause of the following exception:\n",
      "\u001b[0;31mKeyError\u001b[0m                                  Traceback (most recent call last)",
      "\u001b[0;32m/tmp/ipykernel_4748/857971669.py\u001b[0m in \u001b[0;36m<module>\u001b[0;34m\u001b[0m\n\u001b[1;32m      5\u001b[0m     \u001b[0mmy_gs\u001b[0m\u001b[0;34m[\u001b[0m\u001b[0mn_prot\u001b[0m\u001b[0;34m]\u001b[0m \u001b[0;34m=\u001b[0m \u001b[0;34m[\u001b[0m\u001b[0;34m]\u001b[0m\u001b[0;34m\u001b[0m\u001b[0;34m\u001b[0m\u001b[0m\n\u001b[1;32m      6\u001b[0m     \u001b[0;32mfor\u001b[0m \u001b[0mph\u001b[0m \u001b[0;32min\u001b[0m \u001b[0mph_vals\u001b[0m\u001b[0;34m:\u001b[0m\u001b[0;34m\u001b[0m\u001b[0;34m\u001b[0m\u001b[0m\n\u001b[0;32m----> 7\u001b[0;31m         \u001b[0mmy_gs\u001b[0m\u001b[0;34m[\u001b[0m\u001b[0mn_prot\u001b[0m\u001b[0;34m]\u001b[0m\u001b[0;34m.\u001b[0m\u001b[0mappend\u001b[0m\u001b[0;34m(\u001b[0m\u001b[0mnp\u001b[0m\u001b[0;34m.\u001b[0m\u001b[0marray\u001b[0m\u001b[0;34m(\u001b[0m\u001b[0mgs\u001b[0m\u001b[0;34m[\u001b[0m\u001b[0mph\u001b[0m\u001b[0;34m]\u001b[0m\u001b[0;34m.\u001b[0m\u001b[0miloc\u001b[0m\u001b[0;34m[\u001b[0m\u001b[0mns\u001b[0m\u001b[0;34m[\u001b[0m\u001b[0mph\u001b[0m\u001b[0;34m]\u001b[0m \u001b[0;34m==\u001b[0m \u001b[0mn_prot\u001b[0m\u001b[0;34m]\u001b[0m\u001b[0;34m.\u001b[0m\u001b[0mloc\u001b[0m\u001b[0;34m[\u001b[0m\u001b[0;36m0\u001b[0m\u001b[0;34m]\u001b[0m\u001b[0;34m[\u001b[0m\u001b[0mobs_names\u001b[0m\u001b[0;34m]\u001b[0m\u001b[0;34m)\u001b[0m\u001b[0;34m)\u001b[0m\u001b[0;34m\u001b[0m\u001b[0;34m\u001b[0m\u001b[0m\n\u001b[0m\u001b[1;32m      8\u001b[0m         \u001b[0mmy_gs\u001b[0m\u001b[0;34m[\u001b[0m\u001b[0mn_prot\u001b[0m\u001b[0;34m]\u001b[0m\u001b[0;34m.\u001b[0m\u001b[0mappend\u001b[0m\u001b[0;34m(\u001b[0m\u001b[0mgs\u001b[0m\u001b[0;34m[\u001b[0m\u001b[0mph\u001b[0m\u001b[0;34m]\u001b[0m\u001b[0;34m[\u001b[0m\u001b[0mns\u001b[0m\u001b[0;34m[\u001b[0m\u001b[0mph\u001b[0m\u001b[0;34m]\u001b[0m\u001b[0;34m.\u001b[0m\u001b[0mto_numpy\u001b[0m\u001b[0;34m(\u001b[0m\u001b[0;34m)\u001b[0m \u001b[0;34m==\u001b[0m \u001b[0mn_prot\u001b[0m\u001b[0;34m]\u001b[0m\u001b[0;34m)\u001b[0m\u001b[0;34m\u001b[0m\u001b[0;34m\u001b[0m\u001b[0m\n\u001b[1;32m      9\u001b[0m     \u001b[0mmy_gs\u001b[0m\u001b[0;34m[\u001b[0m\u001b[0mn_prot\u001b[0m\u001b[0;34m]\u001b[0m \u001b[0;34m=\u001b[0m \u001b[0mnp\u001b[0m\u001b[0;34m.\u001b[0m\u001b[0mvstack\u001b[0m\u001b[0;34m(\u001b[0m\u001b[0mmy_gs\u001b[0m\u001b[0;34m[\u001b[0m\u001b[0mn_prot\u001b[0m\u001b[0;34m]\u001b[0m\u001b[0;34m)\u001b[0m\u001b[0;34m\u001b[0m\u001b[0;34m\u001b[0m\u001b[0m\n",
      "\u001b[0;32m~/.local/lib/python3.9/site-packages/pandas/core/indexing.py\u001b[0m in \u001b[0;36m__getitem__\u001b[0;34m(self, key)\u001b[0m\n\u001b[1;32m    929\u001b[0m \u001b[0;34m\u001b[0m\u001b[0m\n\u001b[1;32m    930\u001b[0m             \u001b[0mmaybe_callable\u001b[0m \u001b[0;34m=\u001b[0m \u001b[0mcom\u001b[0m\u001b[0;34m.\u001b[0m\u001b[0mapply_if_callable\u001b[0m\u001b[0;34m(\u001b[0m\u001b[0mkey\u001b[0m\u001b[0;34m,\u001b[0m \u001b[0mself\u001b[0m\u001b[0;34m.\u001b[0m\u001b[0mobj\u001b[0m\u001b[0;34m)\u001b[0m\u001b[0;34m\u001b[0m\u001b[0;34m\u001b[0m\u001b[0m\n\u001b[0;32m--> 931\u001b[0;31m             \u001b[0;32mreturn\u001b[0m \u001b[0mself\u001b[0m\u001b[0;34m.\u001b[0m\u001b[0m_getitem_axis\u001b[0m\u001b[0;34m(\u001b[0m\u001b[0mmaybe_callable\u001b[0m\u001b[0;34m,\u001b[0m \u001b[0maxis\u001b[0m\u001b[0;34m=\u001b[0m\u001b[0maxis\u001b[0m\u001b[0;34m)\u001b[0m\u001b[0;34m\u001b[0m\u001b[0;34m\u001b[0m\u001b[0m\n\u001b[0m\u001b[1;32m    932\u001b[0m \u001b[0;34m\u001b[0m\u001b[0m\n\u001b[1;32m    933\u001b[0m     \u001b[0;32mdef\u001b[0m \u001b[0m_is_scalar_access\u001b[0m\u001b[0;34m(\u001b[0m\u001b[0mself\u001b[0m\u001b[0;34m,\u001b[0m \u001b[0mkey\u001b[0m\u001b[0;34m:\u001b[0m \u001b[0mtuple\u001b[0m\u001b[0;34m)\u001b[0m\u001b[0;34m:\u001b[0m\u001b[0;34m\u001b[0m\u001b[0;34m\u001b[0m\u001b[0m\n",
      "\u001b[0;32m~/.local/lib/python3.9/site-packages/pandas/core/indexing.py\u001b[0m in \u001b[0;36m_getitem_axis\u001b[0;34m(self, key, axis)\u001b[0m\n\u001b[1;32m   1162\u001b[0m         \u001b[0;31m# fall thru to straight lookup\u001b[0m\u001b[0;34m\u001b[0m\u001b[0;34m\u001b[0m\u001b[0m\n\u001b[1;32m   1163\u001b[0m         \u001b[0mself\u001b[0m\u001b[0;34m.\u001b[0m\u001b[0m_validate_key\u001b[0m\u001b[0;34m(\u001b[0m\u001b[0mkey\u001b[0m\u001b[0;34m,\u001b[0m \u001b[0maxis\u001b[0m\u001b[0;34m)\u001b[0m\u001b[0;34m\u001b[0m\u001b[0;34m\u001b[0m\u001b[0m\n\u001b[0;32m-> 1164\u001b[0;31m         \u001b[0;32mreturn\u001b[0m \u001b[0mself\u001b[0m\u001b[0;34m.\u001b[0m\u001b[0m_get_label\u001b[0m\u001b[0;34m(\u001b[0m\u001b[0mkey\u001b[0m\u001b[0;34m,\u001b[0m \u001b[0maxis\u001b[0m\u001b[0;34m=\u001b[0m\u001b[0maxis\u001b[0m\u001b[0;34m)\u001b[0m\u001b[0;34m\u001b[0m\u001b[0;34m\u001b[0m\u001b[0m\n\u001b[0m\u001b[1;32m   1165\u001b[0m \u001b[0;34m\u001b[0m\u001b[0m\n\u001b[1;32m   1166\u001b[0m     \u001b[0;32mdef\u001b[0m \u001b[0m_get_slice_axis\u001b[0m\u001b[0;34m(\u001b[0m\u001b[0mself\u001b[0m\u001b[0;34m,\u001b[0m \u001b[0mslice_obj\u001b[0m\u001b[0;34m:\u001b[0m \u001b[0mslice\u001b[0m\u001b[0;34m,\u001b[0m \u001b[0maxis\u001b[0m\u001b[0;34m:\u001b[0m \u001b[0mint\u001b[0m\u001b[0;34m)\u001b[0m\u001b[0;34m:\u001b[0m\u001b[0;34m\u001b[0m\u001b[0;34m\u001b[0m\u001b[0m\n",
      "\u001b[0;32m~/.local/lib/python3.9/site-packages/pandas/core/indexing.py\u001b[0m in \u001b[0;36m_get_label\u001b[0;34m(self, label, axis)\u001b[0m\n\u001b[1;32m   1111\u001b[0m     \u001b[0;32mdef\u001b[0m \u001b[0m_get_label\u001b[0m\u001b[0;34m(\u001b[0m\u001b[0mself\u001b[0m\u001b[0;34m,\u001b[0m \u001b[0mlabel\u001b[0m\u001b[0;34m,\u001b[0m \u001b[0maxis\u001b[0m\u001b[0;34m:\u001b[0m \u001b[0mint\u001b[0m\u001b[0;34m)\u001b[0m\u001b[0;34m:\u001b[0m\u001b[0;34m\u001b[0m\u001b[0;34m\u001b[0m\u001b[0m\n\u001b[1;32m   1112\u001b[0m         \u001b[0;31m# GH#5667 this will fail if the label is not present in the axis.\u001b[0m\u001b[0;34m\u001b[0m\u001b[0;34m\u001b[0m\u001b[0m\n\u001b[0;32m-> 1113\u001b[0;31m         \u001b[0;32mreturn\u001b[0m \u001b[0mself\u001b[0m\u001b[0;34m.\u001b[0m\u001b[0mobj\u001b[0m\u001b[0;34m.\u001b[0m\u001b[0mxs\u001b[0m\u001b[0;34m(\u001b[0m\u001b[0mlabel\u001b[0m\u001b[0;34m,\u001b[0m \u001b[0maxis\u001b[0m\u001b[0;34m=\u001b[0m\u001b[0maxis\u001b[0m\u001b[0;34m)\u001b[0m\u001b[0;34m\u001b[0m\u001b[0;34m\u001b[0m\u001b[0m\n\u001b[0m\u001b[1;32m   1114\u001b[0m \u001b[0;34m\u001b[0m\u001b[0m\n\u001b[1;32m   1115\u001b[0m     \u001b[0;32mdef\u001b[0m \u001b[0m_handle_lowerdim_multi_index_axis0\u001b[0m\u001b[0;34m(\u001b[0m\u001b[0mself\u001b[0m\u001b[0;34m,\u001b[0m \u001b[0mtup\u001b[0m\u001b[0;34m:\u001b[0m \u001b[0mtuple\u001b[0m\u001b[0;34m)\u001b[0m\u001b[0;34m:\u001b[0m\u001b[0;34m\u001b[0m\u001b[0;34m\u001b[0m\u001b[0m\n",
      "\u001b[0;32m~/.local/lib/python3.9/site-packages/pandas/core/generic.py\u001b[0m in \u001b[0;36mxs\u001b[0;34m(self, key, axis, level, drop_level)\u001b[0m\n\u001b[1;32m   3774\u001b[0m                 \u001b[0;32mraise\u001b[0m \u001b[0mTypeError\u001b[0m\u001b[0;34m(\u001b[0m\u001b[0;34mf\"Expected label or tuple of labels, got {key}\"\u001b[0m\u001b[0;34m)\u001b[0m \u001b[0;32mfrom\u001b[0m \u001b[0me\u001b[0m\u001b[0;34m\u001b[0m\u001b[0;34m\u001b[0m\u001b[0m\n\u001b[1;32m   3775\u001b[0m         \u001b[0;32melse\u001b[0m\u001b[0;34m:\u001b[0m\u001b[0;34m\u001b[0m\u001b[0;34m\u001b[0m\u001b[0m\n\u001b[0;32m-> 3776\u001b[0;31m             \u001b[0mloc\u001b[0m \u001b[0;34m=\u001b[0m \u001b[0mindex\u001b[0m\u001b[0;34m.\u001b[0m\u001b[0mget_loc\u001b[0m\u001b[0;34m(\u001b[0m\u001b[0mkey\u001b[0m\u001b[0;34m)\u001b[0m\u001b[0;34m\u001b[0m\u001b[0;34m\u001b[0m\u001b[0m\n\u001b[0m\u001b[1;32m   3777\u001b[0m \u001b[0;34m\u001b[0m\u001b[0m\n\u001b[1;32m   3778\u001b[0m             \u001b[0;32mif\u001b[0m \u001b[0misinstance\u001b[0m\u001b[0;34m(\u001b[0m\u001b[0mloc\u001b[0m\u001b[0;34m,\u001b[0m \u001b[0mnp\u001b[0m\u001b[0;34m.\u001b[0m\u001b[0mndarray\u001b[0m\u001b[0;34m)\u001b[0m\u001b[0;34m:\u001b[0m\u001b[0;34m\u001b[0m\u001b[0;34m\u001b[0m\u001b[0m\n",
      "\u001b[0;32m~/.local/lib/python3.9/site-packages/pandas/core/indexes/base.py\u001b[0m in \u001b[0;36mget_loc\u001b[0;34m(self, key, method, tolerance)\u001b[0m\n\u001b[1;32m   3361\u001b[0m                 \u001b[0;32mreturn\u001b[0m \u001b[0mself\u001b[0m\u001b[0;34m.\u001b[0m\u001b[0m_engine\u001b[0m\u001b[0;34m.\u001b[0m\u001b[0mget_loc\u001b[0m\u001b[0;34m(\u001b[0m\u001b[0mcasted_key\u001b[0m\u001b[0;34m)\u001b[0m\u001b[0;34m\u001b[0m\u001b[0;34m\u001b[0m\u001b[0m\n\u001b[1;32m   3362\u001b[0m             \u001b[0;32mexcept\u001b[0m \u001b[0mKeyError\u001b[0m \u001b[0;32mas\u001b[0m \u001b[0merr\u001b[0m\u001b[0;34m:\u001b[0m\u001b[0;34m\u001b[0m\u001b[0;34m\u001b[0m\u001b[0m\n\u001b[0;32m-> 3363\u001b[0;31m                 \u001b[0;32mraise\u001b[0m \u001b[0mKeyError\u001b[0m\u001b[0;34m(\u001b[0m\u001b[0mkey\u001b[0m\u001b[0;34m)\u001b[0m \u001b[0;32mfrom\u001b[0m \u001b[0merr\u001b[0m\u001b[0;34m\u001b[0m\u001b[0;34m\u001b[0m\u001b[0m\n\u001b[0m\u001b[1;32m   3364\u001b[0m \u001b[0;34m\u001b[0m\u001b[0m\n\u001b[1;32m   3365\u001b[0m         \u001b[0;32mif\u001b[0m \u001b[0mis_scalar\u001b[0m\u001b[0;34m(\u001b[0m\u001b[0mkey\u001b[0m\u001b[0;34m)\u001b[0m \u001b[0;32mand\u001b[0m \u001b[0misna\u001b[0m\u001b[0;34m(\u001b[0m\u001b[0mkey\u001b[0m\u001b[0;34m)\u001b[0m \u001b[0;32mand\u001b[0m \u001b[0;32mnot\u001b[0m \u001b[0mself\u001b[0m\u001b[0;34m.\u001b[0m\u001b[0mhasnans\u001b[0m\u001b[0;34m:\u001b[0m\u001b[0;34m\u001b[0m\u001b[0;34m\u001b[0m\u001b[0m\n",
      "\u001b[0;31mKeyError\u001b[0m: 0"
     ]
    }
   ],
   "source": [
    "my_gs = {}\n",
    "\n",
    "for n_prot in ns_prot:\n",
    "    n_prot = int(n_prot)\n",
    "    my_gs[n_prot] = []\n",
    "    for ph in ph_vals:\n",
    "        my_gs[n_prot].append(np.array(gs[ph].iloc[ns[ph] == n_prot].loc[0][obs_names]))\n",
    "        my_gs[n_prot].append(gs[ph][ns[ph].to_numpy() == n_prot])\n",
    "    my_gs[n_prot] = np.vstack(my_gs[n_prot])"
   ]
  },
  {
   "cell_type": "code",
   "execution_count": 61,
   "id": "604fec26",
   "metadata": {},
   "outputs": [
    {
     "name": "stdout",
     "output_type": "stream",
     "text": [
      "24299 111.009233\n",
      "46603 1107.751555\n",
      "89862 2921.476593\n",
      "125701 1426.522845\n",
      "103397 3837.889371\n",
      "60138 1252.275392\n"
     ]
    }
   ],
   "source": [
    "for n_prot in [0, 1]:\n",
    "    for ph in ph_vals:\n",
    "        print(len(ws[n_prot][ph]), np.sum(ws[n_prot][ph]))"
   ]
  },
  {
   "cell_type": "code",
   "execution_count": 60,
   "id": "3f87b66a",
   "metadata": {},
   "outputs": [],
   "source": [
    "ws = {}\n",
    "\n",
    "for prot in [0, 1]:\n",
    "    ws[prot] = {}\n",
    "    for ph in ph_vals:\n",
    "        my_gs = gs[ph][ns[ph].to_numpy() == prot]\n",
    "        ws[prot][ph] = np.array(my_gs['weight'])"
   ]
  },
  {
   "cell_type": "code",
   "execution_count": 58,
   "id": "0af51961",
   "metadata": {},
   "outputs": [
    {
     "data": {
      "text/plain": [
       "15        0.013055\n",
       "17        0.000189\n",
       "19        0.013907\n",
       "23        0.012754\n",
       "24        0.031341\n",
       "            ...   \n",
       "149965    0.004634\n",
       "149966    0.004311\n",
       "149975    0.006636\n",
       "149979    0.002940\n",
       "149989    0.005178\n",
       "Name: weight, Length: 60138, dtype: float64"
      ]
     },
     "execution_count": 58,
     "metadata": {},
     "output_type": "execute_result"
    }
   ],
   "source": [
    "ws[prot][ph]"
   ]
  },
  {
   "cell_type": "code",
   "execution_count": 7,
   "id": "42cd1595",
   "metadata": {},
   "outputs": [
    {
     "name": "stdout",
     "output_type": "stream",
     "text": [
      "(24299, 2) (24299,)\n",
      "{3.5: Array([0.83785604, 1.55566448], dtype=float64), 4.0: Array([0.13798794, 1.36339214], dtype=float64), 4.5: Array([-1.71027328,  1.1049051 ], dtype=float64)}\n"
     ]
    }
   ],
   "source": [
    "ws = {}\n",
    "obs = {}\n",
    "\n",
    "for prot in [0, 1]:\n",
    "    ws[prot] = {}\n",
    "    obs[prot] = {}\n",
    "    for ph in ph_vals:\n",
    "        my_gs = gs[ph][ns[ph].to_numpy() == prot]\n",
    "        obs[prot][ph] = np.array(my_gs[['chi', 'eRMSD']])\n",
    "        ws[prot][ph] = np.array(my_gs['weight'])\n",
    "        ws[prot][ph] /= np.sum(ws[prot][ph])\n",
    "\n",
    "print(obs[0][3.5].shape, ws[0][3.5].shape)\n",
    "\n",
    "n_prot = 1\n",
    "\n",
    "avs = {}\n",
    "for ph in ph_vals:\n",
    "    avs[ph] = np.average(obs[n_prot][ph], weights=ws[n_prot][ph], axis=0)\n",
    "\n",
    "print(avs)"
   ]
  },
  {
   "cell_type": "code",
   "execution_count": 23,
   "id": "7f8352ec",
   "metadata": {},
   "outputs": [],
   "source": [
    "obs_names = df.columns[1:3]"
   ]
  },
  {
   "cell_type": "code",
   "execution_count": 47,
   "id": "a3c5ca5f",
   "metadata": {},
   "outputs": [
    {
     "data": {
      "text/plain": [
       "3.5"
      ]
     },
     "execution_count": 47,
     "metadata": {},
     "output_type": "execute_result"
    }
   ],
   "source": [
    "ph"
   ]
  },
  {
   "cell_type": "code",
   "execution_count": 51,
   "id": "04960fb5",
   "metadata": {},
   "outputs": [
    {
     "data": {
      "image/png": "[encoded data removed]",
      "text/plain": [
       "<Figure size 864x288 with 3 Axes>"
      ]
     },
     "metadata": {
      "needs_background": "light"
     },
     "output_type": "display_data"
    },
    {
     "data": {
      "image/png": "[encoded data removed]",
      "text/plain": [
       "<Figure size 864x288 with 3 Axes>"
      ]
     },
     "metadata": {
      "needs_background": "light"
     },
     "output_type": "display_data"
    }
   ],
   "source": [
    "n_prot = 0\n",
    "\n",
    "fig, axs = plt.subplots(1, 3, figsize=(12, 4))\n",
    "plt.suptitle('prot. state n. %i' % n_prot)\n",
    "\n",
    "for i, ph in enumerate(ph_vals):\n",
    "    axs[i].hist2d(obs[n_prot][ph][:, 0], obs[n_prot][ph][:, 1], weights=ws[n_prot][ph], bins=50, cmap='jet')[2]\n",
    "    axs[i].set_title('pH: %.2f' % ph)\n",
    "axs[0].set_xlabel(obs_names[0])\n",
    "axs[0].set_ylabel(obs_names[1])\n",
    "\n",
    "plt.savefig('Images/mismatch_2d_%i.pdf' % n_prot, format='pdf', bbox_inches='tight')\n",
    "\n",
    "n_prot = 1\n",
    "\n",
    "fig, axs = plt.subplots(1, 3, figsize=(12, 4))\n",
    "plt.suptitle('prot. state n. %i' % n_prot)\n",
    "\n",
    "for i, ph in enumerate(ph_vals):\n",
    "    axs[i].hist2d(obs[n_prot][ph][:, 0], obs[n_prot][ph][:, 1], weights=ws[n_prot][ph], bins=50, cmap='jet')[2]\n",
    "    axs[i].set_title('ph: %.2f' % ph)\n",
    "axs[0].set_xlabel(obs_names[0])\n",
    "axs[0].set_ylabel(obs_names[1])\n",
    "\n",
    "plt.savefig('Images/mismatch_2d_%i.pdf' % n_prot, format='pdf', bbox_inches='tight')"
   ]
  },
  {
   "cell_type": "code",
   "execution_count": 32,
   "id": "f59ff3a6",
   "metadata": {},
   "outputs": [
    {
     "data": {
      "image/png": "[encoded data removed]",
      "text/plain": [
       "<Figure size 864x288 with 2 Axes>"
      ]
     },
     "metadata": {
      "needs_background": "light"
     },
     "output_type": "display_data"
    },
    {
     "data": {
      "image/png": "[encoded data removed]",
      "text/plain": [
       "<Figure size 864x288 with 2 Axes>"
      ]
     },
     "metadata": {
      "needs_background": "light"
     },
     "output_type": "display_data"
    }
   ],
   "source": [
    "for n_prot in [0, 1]:\n",
    "\n",
    "    fig, axs = plt.subplots(1, 2, figsize=(12, 4))\n",
    "\n",
    "    fig.suptitle('protonation state %i' % n_prot)\n",
    "\n",
    "    i_obs = 0\n",
    "    for ph in ph_vals:\n",
    "        # density = True not needed because I have normalized weights\n",
    "        axs[0].hist(obs[n_prot][ph][:, i_obs], weights=ws[n_prot][ph], alpha=0.6, bins=50, label=ph, density=True)[0]\n",
    "    axs[0].set_title('obs. %s' % obs_names[i_obs])\n",
    "    axs[0].legend()\n",
    "\n",
    "    i_obs = 1\n",
    "    for ph in ph_vals:\n",
    "        # density = True not needed because I have normalized weights\n",
    "        axs[1].hist(obs[n_prot][ph][:, i_obs], weights=ws[n_prot][ph], alpha=0.6, bins=50, label=ph, density=True)[0]\n",
    "    axs[1].set_title('obs. %s' % obs_names[i_obs])\n",
    "    axs[1].legend()\n",
    "\n",
    "    # plt.savefig('Images/mismatch_%i.pdf' % n_prot, format='pdf', bbox_inches='tight')"
   ]
  },
  {
   "cell_type": "code",
   "execution_count": 15,
   "id": "801ceb0f",
   "metadata": {},
   "outputs": [
    {
     "data": {
      "text/plain": [
       "Array(0., dtype=float64)"
      ]
     },
     "execution_count": 15,
     "metadata": {},
     "output_type": "execute_result"
    },
    {
     "data": {
      "image/png": "[encoded data removed]",
      "text/plain": [
       "<Figure size 432x288 with 1 Axes>"
      ]
     },
     "metadata": {
      "needs_background": "light"
     },
     "output_type": "display_data"
    }
   ],
   "source": [
    "plt.plot(gs[3.5]['weight'])\n",
    "# plt.yscale('symlog')\n",
    "\n",
    "np.min(np.array(gs[3.5]['weight']))\n"
   ]
  },
  {
   "cell_type": "code",
   "execution_count": 16,
   "id": "c720aad2",
   "metadata": {},
   "outputs": [
    {
     "ename": "IndexingError",
     "evalue": "Unalignable boolean Series provided as indexer (index of the boolean Series and of the indexed object do not match).",
     "output_type": "error",
     "traceback": [
      "\u001b[0;31m---------------------------------------------------------------------------\u001b[0m",
      "\u001b[0;31mIndexingError\u001b[0m                             Traceback (most recent call last)",
      "\u001b[0;32m/tmp/ipykernel_3433/3565105796.py\u001b[0m in \u001b[0;36m<module>\u001b[0;34m\u001b[0m\n\u001b[0;32m----> 1\u001b[0;31m \u001b[0mgs\u001b[0m\u001b[0;34m[\u001b[0m\u001b[0;36m3.5\u001b[0m\u001b[0;34m]\u001b[0m\u001b[0;34m[\u001b[0m\u001b[0;34m'weight'\u001b[0m\u001b[0;34m]\u001b[0m\u001b[0;34m[\u001b[0m\u001b[0mns\u001b[0m\u001b[0;34m[\u001b[0m\u001b[0;36m3.5\u001b[0m\u001b[0;34m]\u001b[0m \u001b[0;34m==\u001b[0m \u001b[0;36m0\u001b[0m\u001b[0;34m]\u001b[0m\u001b[0;34m\u001b[0m\u001b[0;34m\u001b[0m\u001b[0m\n\u001b[0m",
      "\u001b[0;32m~/.local/lib/python3.9/site-packages/pandas/core/series.py\u001b[0m in \u001b[0;36m__getitem__\u001b[0;34m(self, key)\u001b[0m\n\u001b[1;32m    960\u001b[0m \u001b[0;34m\u001b[0m\u001b[0m\n\u001b[1;32m    961\u001b[0m         \u001b[0;32mif\u001b[0m \u001b[0mcom\u001b[0m\u001b[0;34m.\u001b[0m\u001b[0mis_bool_indexer\u001b[0m\u001b[0;34m(\u001b[0m\u001b[0mkey\u001b[0m\u001b[0;34m)\u001b[0m\u001b[0;34m:\u001b[0m\u001b[0;34m\u001b[0m\u001b[0;34m\u001b[0m\u001b[0m\n\u001b[0;32m--> 962\u001b[0;31m             \u001b[0mkey\u001b[0m \u001b[0;34m=\u001b[0m \u001b[0mcheck_bool_indexer\u001b[0m\u001b[0;34m(\u001b[0m\u001b[0mself\u001b[0m\u001b[0;34m.\u001b[0m\u001b[0mindex\u001b[0m\u001b[0;34m,\u001b[0m \u001b[0mkey\u001b[0m\u001b[0;34m)\u001b[0m\u001b[0;34m\u001b[0m\u001b[0;34m\u001b[0m\u001b[0m\n\u001b[0m\u001b[1;32m    963\u001b[0m             \u001b[0mkey\u001b[0m \u001b[0;34m=\u001b[0m \u001b[0mnp\u001b[0m\u001b[0;34m.\u001b[0m\u001b[0masarray\u001b[0m\u001b[0;34m(\u001b[0m\u001b[0mkey\u001b[0m\u001b[0;34m,\u001b[0m \u001b[0mdtype\u001b[0m\u001b[0;34m=\u001b[0m\u001b[0mbool\u001b[0m\u001b[0;34m)\u001b[0m\u001b[0;34m\u001b[0m\u001b[0;34m\u001b[0m\u001b[0m\n\u001b[1;32m    964\u001b[0m             \u001b[0;32mreturn\u001b[0m \u001b[0mself\u001b[0m\u001b[0;34m.\u001b[0m\u001b[0m_get_values\u001b[0m\u001b[0;34m(\u001b[0m\u001b[0mkey\u001b[0m\u001b[0;34m)\u001b[0m\u001b[0;34m\u001b[0m\u001b[0;34m\u001b[0m\u001b[0m\n",
      "\u001b[0;32m~/.local/lib/python3.9/site-packages/pandas/core/indexing.py\u001b[0m in \u001b[0;36mcheck_bool_indexer\u001b[0;34m(index, key)\u001b[0m\n\u001b[1;32m   2386\u001b[0m         \u001b[0mmask\u001b[0m \u001b[0;34m=\u001b[0m \u001b[0misna\u001b[0m\u001b[0;34m(\u001b[0m\u001b[0mresult\u001b[0m\u001b[0;34m.\u001b[0m\u001b[0m_values\u001b[0m\u001b[0;34m)\u001b[0m\u001b[0;34m\u001b[0m\u001b[0;34m\u001b[0m\u001b[0m\n\u001b[1;32m   2387\u001b[0m         \u001b[0;32mif\u001b[0m \u001b[0mmask\u001b[0m\u001b[0;34m.\u001b[0m\u001b[0many\u001b[0m\u001b[0;34m(\u001b[0m\u001b[0;34m)\u001b[0m\u001b[0;34m:\u001b[0m\u001b[0;34m\u001b[0m\u001b[0;34m\u001b[0m\u001b[0m\n\u001b[0;32m-> 2388\u001b[0;31m             raise IndexingError(\n\u001b[0m\u001b[1;32m   2389\u001b[0m                 \u001b[0;34m\"Unalignable boolean Series provided as \"\u001b[0m\u001b[0;34m\u001b[0m\u001b[0;34m\u001b[0m\u001b[0m\n\u001b[1;32m   2390\u001b[0m                 \u001b[0;34m\"indexer (index of the boolean Series and of \"\u001b[0m\u001b[0;34m\u001b[0m\u001b[0;34m\u001b[0m\u001b[0m\n",
      "\u001b[0;31mIndexingError\u001b[0m: Unalignable boolean Series provided as indexer (index of the boolean Series and of the indexed object do not match)."
     ]
    }
   ],
   "source": [
    "gs[3.5]['weight'][ns[3.5] == 0]"
   ]
  },
  {
   "cell_type": "code",
   "execution_count": 7,
   "id": "8d0035d9",
   "metadata": {},
   "outputs": [
    {
     "data": {
      "text/plain": [
       "[<matplotlib.lines.Line2D at 0x7f9b27d0da00>]"
      ]
     },
     "execution_count": 7,
     "metadata": {},
     "output_type": "execute_result"
    },
    {
     "data": {
      "image/png": "[encoded data removed]",
      "text/plain": [
       "<Figure size 432x288 with 1 Axes>"
      ]
     },
     "metadata": {
      "needs_background": "light"
     },
     "output_type": "display_data"
    }
   ],
   "source": [
    "plt.plot(gs[3.5]['metad.bias'])"
   ]
  },
  {
   "cell_type": "markdown",
   "id": "1679d71a",
   "metadata": {},
   "source": [
    "**CRITICAL ISSUE**\n",
    "\n",
    "How to pass from the probability of a configuration sampled in a simulation at constant pH to that of the same configuration but in the corresponding ensemble at fixed protonation state?\n",
    "\n",
    "1. from `metad.bias` $V(x)$ to weights (through $e^{\\beta V(x)}$ ?) in the constant-pH simulations\n",
    "2. from the constant-pH ensembles to the ensembles with given protonation state: I should weight equally each pH, namely: if at pH 3.5 the deprotonated state has prob. 0.7 and the protonated state 0.3 and at pH 4.0 the deprotonated 0.5 and the protonated 0.5, then I take deprotonated states from multiple pH values with the same weight (is it right?)\n",
    "\n",
    "No, the fact that we have a different number of configurations at different pH should not impact the single weights (compare with and without `/tot[ph][int(n_prot)]` in `vals = weights[ph][ns[ph] == n_prot]#/tot[ph][int(n_prot)]`\n",
    "\n",
    "- if each constant pH MD simulation has been performed with plain MD, then just collect each configuration at given protonation state from each constant pH simulation; what happens when metadynamics is used? This should mean that the weight is the (float) number of times each configuration has been sampled, but this is not invariant by constant shift of a potential value...?\n",
    "\n",
    "It's like when I want to build a single ensemble from multiple simulations at different temperature (WHAM when replica exchange is performed) ??\n",
    "\n",
    "- problem when simulations at different pH values have a (big) difference in the autocorrelation times!"
   ]
  },
  {
   "cell_type": "markdown",
   "id": "9c649ac1",
   "metadata": {},
   "source": [
    "The grand canonical ensemble \"includes\" the canonical distributions at the two protonation states.\n",
    "\n",
    "The **question** is: how should I compute the average value of the k-th observable over the canonical ensemble at given protonation state j? The advantage comes from the fact that I can improve my estimation of the average by collecting several samples of the j-th canonical distribution, coming from different pH values (the Hamiltonian does not depend on the pH).\n",
    "\n",
    "I could weight the contribution from each pH value equally, indeed they are all samplings of the same canonical distribution, but it may happen that for some pH values the j-th protonation state might be very poorly sampled, so I could perform a weighted average such that I count more the contributions from the pH values at which I have more configurations\n",
    "\n",
    "\\begin{equation}\n",
    "\\langle g_k \\rangle_{P_j} = ?\n",
    "\\end{equation}"
   ]
  },
  {
   "cell_type": "code",
   "execution_count": null,
   "id": "5f54bbbf",
   "metadata": {},
   "outputs": [],
   "source": [
    "obs_names = ['chi', 'eRMSD']\n",
    "ph_vals = [3.5, 4.0, 4.5]\n",
    "\n",
    "# 0. read data\n",
    "ns = {}\n",
    "gs = {}\n",
    "bias = {}\n",
    "\n",
    "for ph in ph_vals:\n",
    "    ns[ph] = pandas.read_csv(path + 'A5mer_pH0%.2f.occ' % ph, header=None).iloc[:, 0]\n",
    "    \n",
    "    df = pandas.read_csv(path + 'COLVAR_REWEIGHT_0%.2f' % ph, header=3, sep=' ').iloc[:, :4]\n",
    "\n",
    "    # df.columns = ['time', 'chi', 'eRMSD', 'bias']\n",
    "    df.columns = list(pandas.read_csv(path + 'COLVAR_REWEIGHT_0%.2f' % ph, nrows=0, sep=' '))[2:]\n",
    "    \n",
    "    gs[ph] = df[obs_names]\n",
    "    bias[ph] = df['metad.bias']\n",
    "\n",
    "\n",
    "    "
   ]
  },
  {
   "cell_type": "code",
   "execution_count": 11,
   "id": "91737416",
   "metadata": {},
   "outputs": [],
   "source": [
    "data = load_ph_data(obs_names, ph_vals, ns, gs, bias)"
   ]
  },
  {
   "cell_type": "code",
   "execution_count": 120,
   "id": "26d78163",
   "metadata": {},
   "outputs": [
    {
     "data": {
      "text/plain": [
       "Array([0, 1, 1, ..., 1, 1, 1], dtype=int64)"
      ]
     },
     "execution_count": 120,
     "metadata": {},
     "output_type": "execute_result"
    }
   ],
   "source": [
    "ns[3.5]"
   ]
  },
  {
   "cell_type": "code",
   "execution_count": 12,
   "id": "026d476f",
   "metadata": {},
   "outputs": [],
   "source": [
    "ns_prot = data.ns_prot"
   ]
  },
  {
   "cell_type": "code",
   "execution_count": 13,
   "id": "6be71fae",
   "metadata": {},
   "outputs": [],
   "source": [
    "import numpy as np"
   ]
  },
  {
   "cell_type": "code",
   "execution_count": 14,
   "id": "32a2acc9",
   "metadata": {},
   "outputs": [
    {
     "data": {
      "text/plain": [
       "{3.5: array([6.66394889e-06, 6.71593129e-06, 6.67631981e-06, ...,\n",
       "        6.92391018e-06, 6.80949403e-06, 6.85224664e-06]),\n",
       " 4.0: array([6.82777643e-06, 6.70567448e-06, 6.60738651e-06, ...,\n",
       "        6.64681265e-06, 6.60932219e-06, 6.55006619e-06]),\n",
       " 4.5: array([6.95972757e-06, 6.95502659e-06, 6.92442973e-06, ...,\n",
       "        6.78465304e-06, 6.73915142e-06, 6.75983117e-06])}"
      ]
     },
     "execution_count": 14,
     "metadata": {},
     "output_type": "execute_result"
    }
   ],
   "source": [
    "weights = {}\n",
    "tot = {}\n",
    "\n",
    "for ph in ph_vals:\n",
    "    weights[ph] = np.exp(np.array(bias[ph])/300)  # is it correct?? fix it!!\n",
    "    weights[ph] /= np.sum(weights[ph])\n",
    "    tot[ph] = {}\n",
    "    for n in ns_prot:\n",
    "        tot[ph][int(n)] = np.sum(weights[ph][ns[ph] == n])\n",
    "\n",
    "weights"
   ]
  },
  {
   "cell_type": "code",
   "execution_count": 37,
   "id": "b0f9c43c",
   "metadata": {},
   "outputs": [],
   "source": [
    "# compute weights from well-tempered metadynamics\n",
    "eff_beta = 0.4  # 1/300  # put the correct value\n",
    "\n",
    "weights = {}\n",
    "\n",
    "for ph in ph_vals:\n",
    "    weights[ph] = np.exp(eff_beta*np.array(bias[ph]))\n",
    "    weights[ph] /= np.sum(weights[ph])\n",
    "\n",
    "# collect configurations at fixed protonation state\n",
    "prot_weights = []\n",
    "\n",
    "for n_prot in ns_prot:\n",
    "    prot_weights.append([])\n",
    "    for ph in ph_vals:\n",
    "        vals = weights[ph][ns[ph] == n_prot]\n",
    "        prot_weights[-1].extend(vals)\n",
    "    prot_weights[-1] = np.array(prot_weights[-1])\n",
    "    prot_weights[-1] /= np.sum(prot_weights[-1])"
   ]
  },
  {
   "cell_type": "code",
   "execution_count": null,
   "id": "f6ab6e26",
   "metadata": {},
   "outputs": [],
   "source": [
    "# compute weights from well-tempered metadynamics\n",
    "eff_beta = 0.4\n",
    "\n",
    "weights = {}\n",
    "\n",
    "for ph in ph_vals:\n",
    "    weights[ph] = np.exp(eff_beta*np.array(bias[ph]))\n",
    "    # weights[ph] /= np.sum(weights[ph])\n",
    "\n",
    "# collect configurations at fixed protonation state\n",
    "is_equal_contribution = False\n",
    "if is_equal_contribution: tot = {}\n",
    "\n",
    "for ph in ph_vals:\n",
    "    if is_equal_contribution:\n",
    "        tot[ph] = {}\n",
    "        for n in ns_prot:\n",
    "            tot[ph][int(n)] = np.sum(weights[ph][ns[ph] == n])\n",
    "\n",
    "prot_weights = []\n",
    "\n",
    "for n_prot in ns_prot:\n",
    "    prot_weights.append([])\n",
    "    for ph in ph_vals:\n",
    "        vals = weights[ph][ns[ph] == n_prot]\n",
    "        if is_equal_contribution: vals /= tot[ph][int(n_prot)]\n",
    "        prot_weights[-1].extend(vals)\n",
    "    prot_weights[-1] = np.array(prot_weights[-1])\n",
    "    prot_weights[-1] /= np.sum(prot_weights[-1])\n"
   ]
  },
  {
   "cell_type": "code",
   "execution_count": 36,
   "id": "486b4eae",
   "metadata": {},
   "outputs": [
    {
     "name": "stdout",
     "output_type": "stream",
     "text": [
      "[5.63085064e-08 7.49573747e-08 3.23254783e-07 ... 1.13394232e-06\n",
      " 5.05707690e-07 7.30425188e-07]\n"
     ]
    }
   ],
   "source": [
    "print(prot_weights[0])"
   ]
  },
  {
   "cell_type": "code",
   "execution_count": 38,
   "id": "ba3f001c",
   "metadata": {},
   "outputs": [
    {
     "name": "stdout",
     "output_type": "stream",
     "text": [
      "[4.30177893e-08 5.72648922e-08 2.46955692e-07 ... 9.90341272e-07\n",
      " 4.41665497e-07 6.37925052e-07]\n"
     ]
    },
    {
     "data": {
      "text/plain": [
       "1.0"
      ]
     },
     "execution_count": 38,
     "metadata": {},
     "output_type": "execute_result"
    },
    {
     "data": {
      "image/png": "[encoded data removed]",
      "text/plain": [
       "<Figure size 432x288 with 1 Axes>"
      ]
     },
     "metadata": {
      "needs_background": "light"
     },
     "output_type": "display_data"
    }
   ],
   "source": [
    "plt.plot(prot_weights[0])\n",
    "\n",
    "print(prot_weights[0])\n",
    "\n",
    "plt.plot(prot_weights[1])\n",
    "\n",
    "plt.yscale('symlog')\n",
    "\n",
    "np.sum(prot_weights[1])"
   ]
  },
  {
   "cell_type": "code",
   "execution_count": null,
   "id": "6bf720c6",
   "metadata": {},
   "outputs": [
    {
     "name": "stdout",
     "output_type": "stream",
     "text": [
      "[0 1]\n"
     ]
    },
    {
     "data": {
      "text/plain": [
       "Array([[-1.258657,  0.671871],\n",
       "       [-1.258657,  0.671871],\n",
       "       [-1.258657,  0.671871],\n",
       "       ...,\n",
       "       [-1.183639,  0.677856],\n",
       "       [-1.183639,  0.677856],\n",
       "       [-1.183639,  0.677856]], dtype=float64)"
      ]
     },
     "execution_count": 71,
     "metadata": {},
     "output_type": "execute_result"
    }
   ],
   "source": [
    "for ph in ns.keys(): ns[ph] = np.array(ns[ph])\n",
    "\n",
    "unique_ns = []\n",
    "for ph in ns.keys(): unique_ns.append(np.unique(ns[ph]))\n",
    "unique_ns = np.unique(np.array(unique_ns))\n",
    "\n",
    "print(unique_ns)\n",
    "\n",
    "my_gs = {}\n",
    "\n",
    "for n_prot in unique_ns:\n",
    "    n_prot = int(n_prot)\n",
    "    my_gs[n_prot] = []\n",
    "    for ph in ph_vals:\n",
    "        my_gs[n_prot].append(np.array(gs[ph].iloc[ns[ph] == n_prot].loc[0][obs_names]))\n",
    "    my_gs[n_prot] = np.vstack(my_gs[n_prot])\n",
    "    # WATCH OUT: you could have some missing observables for a given pH\n",
    "\n",
    "my_gs[0]"
   ]
  },
  {
   "cell_type": "code",
   "execution_count": 8,
   "id": "bf34b705",
   "metadata": {},
   "outputs": [
    {
     "data": {
      "text/plain": [
       "<BarContainer object of 400 artists>"
      ]
     },
     "execution_count": 8,
     "metadata": {},
     "output_type": "execute_result"
    },
    {
     "data": {
      "image/png": "[encoded data removed]",
      "text/plain": [
       "<Figure size 432x288 with 1 Axes>"
      ]
     },
     "metadata": {
      "needs_background": "light"
     },
     "output_type": "display_data"
    }
   ],
   "source": [
    "plt.hist(gs[3.5]['chi'], bins=400)[2]"
   ]
  },
  {
   "cell_type": "code",
   "execution_count": 15,
   "id": "e953a8c1",
   "metadata": {},
   "outputs": [
    {
     "data": {
      "text/plain": [
       "(array([89862.,     0.,     0.,     0.,     0.,     0.,     0.,     0.,\n",
       "            0., 60138.]),\n",
       " array([0. , 0.1, 0.2, 0.3, 0.4, 0.5, 0.6, 0.7, 0.8, 0.9, 1. ]),\n",
       " <BarContainer object of 10 artists>)"
      ]
     },
     "execution_count": 15,
     "metadata": {},
     "output_type": "execute_result"
    },
    {
     "data": {
      "image/png": "[encoded data removed]",
      "text/plain": [
       "<Figure size 432x288 with 1 Axes>"
      ]
     },
     "metadata": {
      "needs_background": "light"
     },
     "output_type": "display_data"
    }
   ],
   "source": [
    "plt.hist(ns[4.5])"
   ]
  },
  {
   "cell_type": "code",
   "execution_count": null,
   "id": "42989dea",
   "metadata": {},
   "outputs": [],
   "source": [
    "class Ph_data():\n",
    "    def __init__(self, path, ph_vals):\n",
    "\n",
    "        self.ph_vals = ph_vals\n",
    "\n",
    "        ns = {}\n",
    "        gs = {}\n",
    "\n",
    "        for ph in ph_vals:\n",
    "            ns[ph] = pandas.read_csv(path + 'A5mer_pH0%.2f.occ' % ph, header=None).iloc[:, 0]\n",
    "            \n",
    "            df = pandas.read_csv(path + 'COLVAR_REWEIGHT_0%.2f' % ph, header=3, sep=' ').iloc[:, :4]\n",
    "            df.columns = ['time', 'chi', 'eRMSD', 'bias']\n",
    "            gs[ph] = df\n",
    "\n"
   ]
  },
  {
   "cell_type": "code",
   "execution_count": null,
   "id": "0254ec91",
   "metadata": {},
   "outputs": [
    {
     "name": "stdout",
     "output_type": "stream",
     "text": [
      "(2, 3)\n"
     ]
    }
   ],
   "source": [
    "ph_values = list(gs.keys())\n",
    "\n",
    "# fake values (synthetic, then compute them by biasing initial time series)\n",
    "g_exp = []\n",
    "sigma_exp = []\n",
    "\n",
    "for ph in ph_values:\n",
    "    my_vals = np.array(gs[ph][['chi', 'eRMSD']])\n",
    "    g_exp.append(np.mean(my_vals, axis=0))\n",
    "    sigma_exp.append(np.std(my_vals, axis=0)/np.sqrt(my_vals.shape[0]))\n",
    "\n",
    "g_exp = np.array(g_exp).T\n",
    "sigma_exp = np.array(sigma_exp).T\n",
    "# first index observable, second index pH\n",
    "\n",
    "print(g_exp.shape)\n",
    "\n",
    "assert g_exp.shape[1] == len(ph_values), 'mismatch in g_exp'\n",
    "assert sigma_exp.shape == g_exp.shape, 'mismatch between g_exp and sigma_exp'\n",
    "\n",
    "g_exp_vec = Manage_indices.flatten(g_exp)\n",
    "sigma_exp_vec = Manage_indices.flatten(sigma_exp)\n",
    "\n"
   ]
  },
  {
   "cell_type": "code",
   "execution_count": 47,
   "id": "5efe3533",
   "metadata": {},
   "outputs": [
    {
     "data": {
      "image/png": "[encoded data removed]",
      "text/plain": [
       "<Figure size 432x288 with 1 Axes>"
      ]
     },
     "metadata": {
      "needs_background": "light"
     },
     "output_type": "display_data"
    },
    {
     "data": {
      "image/png": "[encoded data removed]",
      "text/plain": [
       "<Figure size 432x288 with 1 Axes>"
      ]
     },
     "metadata": {
      "needs_background": "light"
     },
     "output_type": "display_data"
    },
    {
     "data": {
      "image/png": "[encoded data removed]",
      "text/plain": [
       "<Figure size 432x288 with 1 Axes>"
      ]
     },
     "metadata": {
      "needs_background": "light"
     },
     "output_type": "display_data"
    }
   ],
   "source": [
    "ph = ph_values[0]\n",
    "\n",
    "for ph in ph_values:\n",
    "    plt.figure()\n",
    "    if_density = False\n",
    "    plt.hist(gs[ph]['chi'][ns[ph] == 0], bins=50, alpha=0.5, density=if_density)[2]\n",
    "    plt.hist(gs[ph]['chi'][ns[ph] == 1], bins=50, alpha=0.5, density=if_density)[2]\n",
    "\n"
   ]
  },
  {
   "cell_type": "markdown",
   "id": "2d4fa0d8",
   "metadata": {},
   "source": [
    "**crucial point!**\n",
    "\n",
    "when you compute the average value of the k-th observable at pH n. i, this is\n",
    "\n",
    "\\begin{equation}\n",
    "\\sum_j w_{ij} \\langle g_k(x) \\rangle_{P_j}\n",
    "\\end{equation}\n",
    "\n",
    "so you put together the values of the k-th observable at given protonation state $P_j$ independently on which simulation at constant pH they come from "
   ]
  },
  {
   "cell_type": "code",
   "execution_count": 72,
   "id": "bb00e7cc",
   "metadata": {},
   "outputs": [
    {
     "ename": "TypeError",
     "evalue": "unhashable type: 'jaxlib.xla_extension.ArrayImpl'",
     "output_type": "error",
     "traceback": [
      "\u001b[0;31m---------------------------------------------------------------------------\u001b[0m",
      "\u001b[0;31mTypeError\u001b[0m                                 Traceback (most recent call last)",
      "\u001b[0;32m/tmp/ipykernel_6172/89196728.py\u001b[0m in \u001b[0;36m<module>\u001b[0;34m\u001b[0m\n\u001b[1;32m      4\u001b[0m     \u001b[0mmy_vals\u001b[0m \u001b[0;34m=\u001b[0m \u001b[0mnp\u001b[0m\u001b[0;34m.\u001b[0m\u001b[0marray\u001b[0m\u001b[0;34m(\u001b[0m\u001b[0mgs\u001b[0m\u001b[0;34m[\u001b[0m\u001b[0mph\u001b[0m\u001b[0;34m]\u001b[0m\u001b[0;34m[\u001b[0m\u001b[0;34m[\u001b[0m\u001b[0;34m'chi'\u001b[0m\u001b[0;34m,\u001b[0m \u001b[0;34m'eRMSD'\u001b[0m\u001b[0;34m]\u001b[0m\u001b[0;34m]\u001b[0m\u001b[0;34m)\u001b[0m\u001b[0;34m\u001b[0m\u001b[0;34m\u001b[0m\u001b[0m\n\u001b[1;32m      5\u001b[0m     \u001b[0;32mfor\u001b[0m \u001b[0mn\u001b[0m \u001b[0;32min\u001b[0m \u001b[0munique_ns\u001b[0m\u001b[0;34m:\u001b[0m\u001b[0;34m\u001b[0m\u001b[0;34m\u001b[0m\u001b[0m\n\u001b[0;32m----> 6\u001b[0;31m         \u001b[0mmy_gs\u001b[0m\u001b[0;34m[\u001b[0m\u001b[0mn\u001b[0m\u001b[0;34m]\u001b[0m\u001b[0;34m.\u001b[0m\u001b[0mextend\u001b[0m\u001b[0;34m(\u001b[0m\u001b[0mmy_vals\u001b[0m\u001b[0;34m[\u001b[0m\u001b[0mns\u001b[0m\u001b[0;34m[\u001b[0m\u001b[0mph\u001b[0m\u001b[0;34m]\u001b[0m \u001b[0;34m==\u001b[0m \u001b[0mn\u001b[0m\u001b[0;34m]\u001b[0m\u001b[0;34m)\u001b[0m\u001b[0;34m\u001b[0m\u001b[0;34m\u001b[0m\u001b[0m\n\u001b[0m",
      "\u001b[0;31mTypeError\u001b[0m: unhashable type: 'jaxlib.xla_extension.ArrayImpl'"
     ]
    }
   ],
   "source": [
    "my_gs = {}\n",
    "\n",
    "for ph in ph_values:\n",
    "    my_vals = np.array(gs[ph][['chi', 'eRMSD']])\n",
    "    for n in unique_ns:\n",
    "        my_gs[n].extend(my_vals[ns[ph] == n])\n"
   ]
  },
  {
   "cell_type": "code",
   "execution_count": null,
   "id": "7741d636",
   "metadata": {},
   "outputs": [],
   "source": [
    "new_gs = {}\n",
    "\n",
    "# here we have only ns == 0 or ns == 1\n",
    "for ph in ph_values:\n",
    "    new_gs['chi'].append(gs[ph]['chi'][ns[ph] == 0])\n",
    "\n"
   ]
  }
 ],
 "metadata": {
  "kernelspec": {
   "display_name": "Python 3",
   "language": "python",
   "name": "python3"
  },
  "language_info": {
   "codemirror_mode": {
    "name": "ipython",
    "version": 3
   },
   "file_extension": ".py",
   "mimetype": "text/x-python",
   "name": "python",
   "nbconvert_exporter": "python",
   "pygments_lexer": "ipython3",
   "version": "3.9.13"
  }
 },
 "nbformat": 4,
 "nbformat_minor": 5
}
